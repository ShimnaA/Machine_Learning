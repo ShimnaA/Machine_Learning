{
 "cells": [
  {
   "cell_type": "code",
   "execution_count": 1,
   "metadata": {},
   "outputs": [],
   "source": [
    "import pymongo"
   ]
  },
  {
   "cell_type": "code",
   "execution_count": 2,
   "metadata": {},
   "outputs": [],
   "source": [
    "default_conn_url = \"mongodb://localhost:27017\""
   ]
  },
  {
   "cell_type": "code",
   "execution_count": 3,
   "metadata": {},
   "outputs": [],
   "source": [
    "dbName = \"ineuron\""
   ]
  },
  {
   "cell_type": "code",
   "execution_count": 4,
   "metadata": {},
   "outputs": [],
   "source": [
    "#establish connection to mongo db\n",
    "\n",
    "client = pymongo.MongoClient(default_conn_url)"
   ]
  },
  {
   "cell_type": "code",
   "execution_count": 5,
   "metadata": {},
   "outputs": [],
   "source": [
    "# create a database\n",
    "dataBase = client[dbName]"
   ]
  },
  {
   "cell_type": "code",
   "execution_count": 6,
   "metadata": {},
   "outputs": [
    {
     "data": {
      "text/plain": [
       "MongoClient(host=['localhost:27017'], document_class=dict, tz_aware=False, connect=True)"
      ]
     },
     "execution_count": 6,
     "metadata": {},
     "output_type": "execute_result"
    }
   ],
   "source": [
    "client"
   ]
  },
  {
   "cell_type": "code",
   "execution_count": 7,
   "metadata": {},
   "outputs": [
    {
     "data": {
      "text/plain": [
       "['admin', 'config', 'local']"
      ]
     },
     "execution_count": 7,
     "metadata": {},
     "output_type": "execute_result"
    }
   ],
   "source": [
    "client.list_database_names()"
   ]
  },
  {
   "cell_type": "code",
   "execution_count": 11,
   "metadata": {},
   "outputs": [],
   "source": [
    "def check_DB_Exists(dbname, conn):\n",
    "    dbs = conn.list_database_names()\n",
    "    if dbname in dbs:\n",
    "        print(f\"{dbname} exists\")\n",
    "        return True\n",
    "    print(f\"{dbname} not yet present OR no collection is present in the DB\")\n",
    "    return False"
   ]
  },
  {
   "cell_type": "code",
   "execution_count": 12,
   "metadata": {},
   "outputs": [
    {
     "name": "stdout",
     "output_type": "stream",
     "text": [
      "ineuron not yet present OR no collection is present in the DB\n"
     ]
    },
    {
     "data": {
      "text/plain": [
       "False"
      ]
     },
     "execution_count": 12,
     "metadata": {},
     "output_type": "execute_result"
    }
   ],
   "source": [
    "check_DB_Exists('ineuron', client)"
   ]
  },
  {
   "cell_type": "code",
   "execution_count": 13,
   "metadata": {},
   "outputs": [
    {
     "name": "stdout",
     "output_type": "stream",
     "text": [
      "config exists\n"
     ]
    },
    {
     "data": {
      "text/plain": [
       "True"
      ]
     },
     "execution_count": 13,
     "metadata": {},
     "output_type": "execute_result"
    }
   ],
   "source": [
    "check_DB_Exists('config', client)"
   ]
  },
  {
   "cell_type": "code",
   "execution_count": 14,
   "metadata": {},
   "outputs": [],
   "source": [
    "# create a collection\n",
    "\n",
    "collection_name ='ineuron_products'\n",
    "\n",
    "products = dataBase[collection_name]"
   ]
  },
  {
   "cell_type": "code",
   "execution_count": 15,
   "metadata": {},
   "outputs": [
    {
     "data": {
      "text/plain": [
       "[]"
      ]
     },
     "execution_count": 15,
     "metadata": {},
     "output_type": "execute_result"
    }
   ],
   "source": [
    "dataBase.list_collection_names()"
   ]
  },
  {
   "cell_type": "code",
   "execution_count": 19,
   "metadata": {},
   "outputs": [],
   "source": [
    "def check_Collection_Exists(dbname, collection_name):\n",
    "    if collection_name in dbname.list_collection_names():\n",
    "        print(f\"{collection_name} exist in {dbname}\")\n",
    "        return True\n",
    "    print(f\"{collection_name} does not exist in {dbname} or no documents are present in the collection\")\n",
    "    return False"
   ]
  },
  {
   "cell_type": "code",
   "execution_count": 22,
   "metadata": {},
   "outputs": [
    {
     "name": "stdout",
     "output_type": "stream",
     "text": [
      "ineuron_products does not exist in Database(MongoClient(host=['localhost:27017'], document_class=dict, tz_aware=False, connect=True), 'ineuron') or no documents are present in the collection\n"
     ]
    }
   ],
   "source": [
    "_ = check_Collection_Exists(dataBase, collection_name)"
   ]
  },
  {
   "cell_type": "code",
   "execution_count": 23,
   "metadata": {},
   "outputs": [
    {
     "name": "stdout",
     "output_type": "stream",
     "text": [
      "ineuron_products does not exist in Database(MongoClient(host=['localhost:27017'], document_class=dict, tz_aware=False, connect=True), 'ineuron') or no documents are present in the collection\n"
     ]
    }
   ],
   "source": [
    "_ = check_Collection_Exists(dataBase, 'ineuron_products')"
   ]
  },
  {
   "cell_type": "code",
   "execution_count": 24,
   "metadata": {},
   "outputs": [
    {
     "data": {
      "text/plain": [
       "<pymongo.results.InsertOneResult at 0x1af95f12240>"
      ]
     },
     "execution_count": 24,
     "metadata": {},
     "output_type": "execute_result"
    }
   ],
   "source": [
    "#insert record in collection\n",
    "record = {'companyName': 'iNeuron',\n",
    "         'product': 'Affordable AI',\n",
    "         'courseOffered': 'Deep Learning for Computer Vision'}\n",
    "products.insert_one(record)"
   ]
  },
  {
   "cell_type": "code",
   "execution_count": 25,
   "metadata": {},
   "outputs": [
    {
     "name": "stdout",
     "output_type": "stream",
     "text": [
      "ineuron_products exist in Database(MongoClient(host=['localhost:27017'], document_class=dict, tz_aware=False, connect=True), 'ineuron')\n"
     ]
    }
   ],
   "source": [
    "_ = check_Collection_Exists(dataBase, 'ineuron_products')"
   ]
  },
  {
   "cell_type": "code",
   "execution_count": 27,
   "metadata": {},
   "outputs": [
    {
     "name": "stdout",
     "output_type": "stream",
     "text": [
      "ineuron_products exist in Database(MongoClient(host=['localhost:27017'], document_class=dict, tz_aware=False, connect=True), 'ineuron')\n"
     ]
    }
   ],
   "source": [
    "_ = check_Collection_Exists(dataBase, collection_name)"
   ]
  },
  {
   "cell_type": "code",
   "execution_count": 30,
   "metadata": {},
   "outputs": [
    {
     "data": {
      "text/plain": [
       "<pymongo.results.InsertOneResult at 0x1af95f3ba80>"
      ]
     },
     "execution_count": 30,
     "metadata": {},
     "output_type": "execute_result"
    }
   ],
   "source": [
    "record = {'companyName': 'iNeuron',\n",
    "         'product': 'Affordable AI',\n",
    "         'courseOffered': 'Deep Learning for Computer Vision'}\n",
    "\n",
    "products.insert_one(record)"
   ]
  },
  {
   "cell_type": "code",
   "execution_count": 31,
   "metadata": {},
   "outputs": [
    {
     "data": {
      "text/plain": [
       "<pymongo.results.InsertOneResult at 0x1af96009900>"
      ]
     },
     "execution_count": 31,
     "metadata": {},
     "output_type": "execute_result"
    }
   ],
   "source": [
    "record = {'companyName': 'iNeuron',\n",
    "         'product': 'Affordable AI',\n",
    "         'courseOffered': 'Deep Learning for Computer Vision'}\n",
    "\n",
    "products.insert_one(record)"
   ]
  },
  {
   "cell_type": "code",
   "execution_count": 32,
   "metadata": {},
   "outputs": [
    {
     "name": "stdout",
     "output_type": "stream",
     "text": [
      "ineuron exists\n"
     ]
    },
    {
     "data": {
      "text/plain": [
       "True"
      ]
     },
     "execution_count": 32,
     "metadata": {},
     "output_type": "execute_result"
    }
   ],
   "source": [
    "check_DB_Exists('ineuron', client)"
   ]
  },
  {
   "cell_type": "code",
   "execution_count": 33,
   "metadata": {},
   "outputs": [
    {
     "name": "stdout",
     "output_type": "stream",
     "text": [
      "ineuron_products exist in Database(MongoClient(host=['localhost:27017'], document_class=dict, tz_aware=False, connect=True), 'ineuron')\n"
     ]
    },
    {
     "data": {
      "text/plain": [
       "True"
      ]
     },
     "execution_count": 33,
     "metadata": {},
     "output_type": "execute_result"
    }
   ],
   "source": [
    "check_Collection_Exists(dataBase, collection_name)"
   ]
  },
  {
   "cell_type": "code",
   "execution_count": 34,
   "metadata": {},
   "outputs": [],
   "source": [
    "\n",
    "list_of_records = [\n",
    "    {'companyName': 'iNeuron',\n",
    "     'product': 'Affordable AI',\n",
    "     'courseOffered': 'Machine Learning with Deployment'},\n",
    "    \n",
    "    {'companyName': 'iNeuron',\n",
    "     'product': 'Affordable AI',\n",
    "     'courseOffered': 'Deep Learning for NLP and Computer vision'},\n",
    "    \n",
    "    {'companyName': 'iNeuron',\n",
    "     'product': 'Master Program',\n",
    "     'courseOffered': 'Data Science Masters Program'}\n",
    "]\n",
    "\n",
    "rec = products.insert_many(list_of_records)"
   ]
  },
  {
   "cell_type": "code",
   "execution_count": 35,
   "metadata": {},
   "outputs": [
    {
     "data": {
      "text/plain": [
       "<pymongo.results.InsertManyResult at 0x1af95c2c680>"
      ]
     },
     "execution_count": 35,
     "metadata": {},
     "output_type": "execute_result"
    }
   ],
   "source": [
    "rec"
   ]
  },
  {
   "cell_type": "code",
   "execution_count": 48,
   "metadata": {},
   "outputs": [],
   "source": [
    "record = {\n",
    "\"id\": \"0002\",\n",
    "\"type\": \"donut\",\n",
    "\"name\": \"Cake\",\n",
    "\"ppu\": 0.55,\n",
    "\"batters\":\n",
    "{\n",
    "\"batter\":\n",
    "    [\n",
    "{ \"id\": \"1001\", \"type\": \"Regular\" },\n",
    "{ \"id\": \"1002\", \"type\": \"Chocolate\" },\n",
    "        { \"id\": \"1003\", \"type\": \"Blueberry\" },\n",
    "{ \"id\": \"1004\", \"type\": \"Devil's Food\" }\n",
    "    ]\n",
    "},\n",
    "\"topping\":\n",
    "[\n",
    "{ \"id\": \"5001\", \"type\": \"None\" },\n",
    "{ \"id\": \"5002\", \"type\": \"Glazed\" },\n",
    "{ \"id\": \"5005\", \"type\": \"Sugar\" },\n",
    "{ \"id\": \"5007\", \"type\": \"Powdered Sugar\" },\n",
    "{ \"id\": \"5006\", \"type\": \"Chocolate with Sprinkles\" },\n",
    "{ \"id\": \"5003\", \"type\": \"Chocolate\" },\n",
    "{ \"id\": \"5004\", \"type\": \"Maple\" }\n",
    "]\n",
    "}"
   ]
  },
  {
   "cell_type": "code",
   "execution_count": 38,
   "metadata": {},
   "outputs": [
    {
     "data": {
      "text/plain": [
       "<pymongo.results.InsertOneResult at 0x1af95c3ef00>"
      ]
     },
     "execution_count": 38,
     "metadata": {},
     "output_type": "execute_result"
    }
   ],
   "source": [
    "products.insert_one(record)"
   ]
  },
  {
   "cell_type": "code",
   "execution_count": 43,
   "metadata": {},
   "outputs": [
    {
     "name": "stdout",
     "output_type": "stream",
     "text": [
      "0. 60125582daebad2804ebc794\n",
      "1. 60125582daebad2804ebc795\n",
      "2. 60125582daebad2804ebc796\n"
     ]
    }
   ],
   "source": [
    "inserted_IDs = rec.inserted_ids\n",
    "\n",
    "for idx, unique_ids in enumerate(inserted_IDs):\n",
    "    print(f\"{idx}. {unique_ids}\")"
   ]
  },
  {
   "cell_type": "code",
   "execution_count": 40,
   "metadata": {},
   "outputs": [
    {
     "data": {
      "text/plain": [
       "[ObjectId('60125582daebad2804ebc794'),\n",
       " ObjectId('60125582daebad2804ebc795'),\n",
       " ObjectId('60125582daebad2804ebc796')]"
      ]
     },
     "execution_count": 40,
     "metadata": {},
     "output_type": "execute_result"
    }
   ],
   "source": [
    "inserted_IDs"
   ]
  },
  {
   "cell_type": "code",
   "execution_count": 46,
   "metadata": {},
   "outputs": [
    {
     "ename": "AttributeError",
     "evalue": "'dict' object has no attribute 'inserted_ids'",
     "output_type": "error",
     "traceback": [
      "\u001b[1;31m---------------------------------------------------------------------------\u001b[0m",
      "\u001b[1;31mAttributeError\u001b[0m                            Traceback (most recent call last)",
      "\u001b[1;32m<ipython-input-46-323b3a6d027f>\u001b[0m in \u001b[0;36m<module>\u001b[1;34m\u001b[0m\n\u001b[1;32m----> 1\u001b[1;33m \u001b[0minserted_IDs\u001b[0m \u001b[1;33m=\u001b[0m \u001b[0mrecord\u001b[0m\u001b[1;33m.\u001b[0m\u001b[0minserted_ids\u001b[0m\u001b[1;33m\u001b[0m\u001b[1;33m\u001b[0m\u001b[0m\n\u001b[0m",
      "\u001b[1;31mAttributeError\u001b[0m: 'dict' object has no attribute 'inserted_ids'"
     ]
    }
   ],
   "source": [
    "inserted_IDs = record.inserted_ids"
   ]
  },
  {
   "cell_type": "code",
   "execution_count": 49,
   "metadata": {},
   "outputs": [],
   "source": [
    "newproduct = products.insert_one(record)"
   ]
  },
  {
   "cell_type": "code",
   "execution_count": 51,
   "metadata": {},
   "outputs": [
    {
     "data": {
      "text/plain": [
       "ObjectId('601257dcdaebad2804ebc798')"
      ]
     },
     "execution_count": 51,
     "metadata": {},
     "output_type": "execute_result"
    }
   ],
   "source": [
    "newproduct.inserted_id"
   ]
  },
  {
   "cell_type": "code",
   "execution_count": 52,
   "metadata": {},
   "outputs": [],
   "source": [
    "COLLECTION_NAME = \"iNeuron_Faculties\"\n",
    "faculties = dataBase[COLLECTION_NAME]\n",
    "\n",
    "list_of_records_user_defined_id = [\n",
    "    {\"_id\": \"1\",\n",
    "    \"companyName\": \"iNeuron\",\n",
    "    \"Faculty\": \"Sudhanshu Kumar\"},\n",
    "    {\"_id\": \"2\",\n",
    "    \"companyName\": \"iNeuron\",\n",
    "    \"Faculty\": \"Virat Sagar\"},\n",
    "]\n",
    "\n",
    "faculties_record = faculties.insert_many(list_of_records_user_defined_id)"
   ]
  },
  {
   "cell_type": "code",
   "execution_count": 53,
   "metadata": {},
   "outputs": [
    {
     "data": {
      "text/plain": [
       "['1', '2']"
      ]
     },
     "execution_count": 53,
     "metadata": {},
     "output_type": "execute_result"
    }
   ],
   "source": [
    "faculties_record.inserted_ids"
   ]
  },
  {
   "cell_type": "code",
   "execution_count": 54,
   "metadata": {},
   "outputs": [
    {
     "name": "stdout",
     "output_type": "stream",
     "text": [
      "iNeuron_Faculties exist in Database(MongoClient(host=['localhost:27017'], document_class=dict, tz_aware=False, connect=True), 'ineuron')\n"
     ]
    },
    {
     "data": {
      "text/plain": [
       "True"
      ]
     },
     "execution_count": 54,
     "metadata": {},
     "output_type": "execute_result"
    }
   ],
   "source": [
    "check_Collection_Exists(dataBase, COLLECTION_NAME)"
   ]
  },
  {
   "cell_type": "code",
   "execution_count": 56,
   "metadata": {},
   "outputs": [
    {
     "data": {
      "text/plain": [
       "{'_id': '1', 'companyName': 'iNeuron', 'Faculty': 'Sudhanshu Kumar'}"
      ]
     },
     "execution_count": 56,
     "metadata": {},
     "output_type": "execute_result"
    }
   ],
   "source": [
    "faculties.find_one()"
   ]
  },
  {
   "cell_type": "code",
   "execution_count": 67,
   "metadata": {},
   "outputs": [],
   "source": [
    "datarec = faculties.find()"
   ]
  },
  {
   "cell_type": "code",
   "execution_count": 60,
   "metadata": {},
   "outputs": [
    {
     "name": "stdout",
     "output_type": "stream",
     "text": [
      "{'_id': '1', 'companyName': 'iNeuron', 'Faculty': 'Sudhanshu Kumar'}\n",
      "{'_id': '2', 'companyName': 'iNeuron', 'Faculty': 'Virat Sagar'}\n"
     ]
    }
   ],
   "source": [
    "for rec in datarec:\n",
    "    print(rec)"
   ]
  },
  {
   "cell_type": "code",
   "execution_count": 68,
   "metadata": {},
   "outputs": [
    {
     "name": "stdout",
     "output_type": "stream",
     "text": [
      "0 the record is : {'_id': '1', 'companyName': 'iNeuron', 'Faculty': 'Sudhanshu Kumar'}\n",
      "1 the record is : {'_id': '2', 'companyName': 'iNeuron', 'Faculty': 'Virat Sagar'}\n"
     ]
    }
   ],
   "source": [
    "for id, rec in enumerate(datarec):\n",
    "    print(f\"{id} the record is : {rec}\")"
   ]
  },
  {
   "cell_type": "code",
   "execution_count": 65,
   "metadata": {},
   "outputs": [],
   "source": [
    "for id, rec in enumerate(datarec):\n",
    "    print(rec)"
   ]
  },
  {
   "cell_type": "code",
   "execution_count": 69,
   "metadata": {},
   "outputs": [],
   "source": [
    "# find all the record at once present in the record with SPECIFIC fields\n",
    "faculties_record = faculties.find({}, {'Faculty'})"
   ]
  },
  {
   "cell_type": "code",
   "execution_count": 70,
   "metadata": {},
   "outputs": [
    {
     "name": "stdout",
     "output_type": "stream",
     "text": [
      "0 data is : {'_id': '1', 'Faculty': 'Sudhanshu Kumar'}\n",
      "1 data is : {'_id': '2', 'Faculty': 'Virat Sagar'}\n"
     ]
    }
   ],
   "source": [
    "for id1, rec in enumerate(faculties_record):\n",
    "    print(f\"{id1} data is : {rec}\")"
   ]
  },
  {
   "cell_type": "code",
   "execution_count": 71,
   "metadata": {},
   "outputs": [
    {
     "name": "stdout",
     "output_type": "stream",
     "text": [
      "{'_id': '1', 'companyName': 'iNeuron', 'Faculty': 'Sudhanshu Kumar'}\n"
     ]
    }
   ],
   "source": [
    "query1 = {\"_id\": '1'}\n",
    "\n",
    "results = faculties.find(query1)\n",
    "for data in results:\n",
    "    print(data)"
   ]
  },
  {
   "cell_type": "code",
   "execution_count": 73,
   "metadata": {},
   "outputs": [],
   "source": [
    "query2 = {\"_id\": { \"$gt\" : \"1\"}}"
   ]
  },
  {
   "cell_type": "code",
   "execution_count": 74,
   "metadata": {},
   "outputs": [
    {
     "name": "stdout",
     "output_type": "stream",
     "text": [
      "{'_id': '2', 'companyName': 'iNeuron', 'Faculty': 'Virat Sagar'}\n"
     ]
    }
   ],
   "source": [
    "results = faculties.find(query2)\n",
    "for data in results:\n",
    "    print(data)"
   ]
  },
  {
   "cell_type": "code",
   "execution_count": 75,
   "metadata": {},
   "outputs": [
    {
     "name": "stdout",
     "output_type": "stream",
     "text": [
      "{'_id': '2', 'companyName': 'iNeuron', 'Faculty': 'Virat Sagar'}\n"
     ]
    }
   ],
   "source": [
    "query2 = {\"_id\": { \"$eq\" : \"2\"}}\n",
    "results = faculties.find(query2)\n",
    "for data in results:\n",
    "    print(data)"
   ]
  },
  {
   "cell_type": "code",
   "execution_count": 76,
   "metadata": {},
   "outputs": [
    {
     "data": {
      "text/plain": [
       "<pymongo.results.InsertManyResult at 0x1af965449c0>"
      ]
     },
     "execution_count": 76,
     "metadata": {},
     "output_type": "execute_result"
    }
   ],
   "source": [
    "# Lets add some random data in faculties\n",
    "random_data = [\n",
    "    {'_id': '3', 'companyName': 'iNeuron', 'Faculty': 'XYZ'},\n",
    "    {'_id': '4', 'companyName': 'iNeuron', 'Faculty': 'ABC'},\n",
    "    {'_id': '5', 'companyName': 'iNeuron', 'Faculty': 'PQR'},\n",
    "]\n",
    "\n",
    "faculties.insert_many(random_data)"
   ]
  },
  {
   "cell_type": "code",
   "execution_count": 79,
   "metadata": {},
   "outputs": [
    {
     "data": {
      "text/plain": [
       "<pymongo.results.DeleteResult at 0x1af9675cb40>"
      ]
     },
     "execution_count": 79,
     "metadata": {},
     "output_type": "execute_result"
    }
   ],
   "source": [
    "faculties.delete_one({'_id': 3})"
   ]
  },
  {
   "cell_type": "code",
   "execution_count": 80,
   "metadata": {},
   "outputs": [
    {
     "name": "stdout",
     "output_type": "stream",
     "text": [
      "{'_id': '1', 'companyName': 'iNeuron', 'Faculty': 'Sudhanshu Kumar'}\n",
      "{'_id': '2', 'companyName': 'iNeuron', 'Faculty': 'Virat Sagar'}\n",
      "{'_id': '3', 'companyName': 'iNeuron', 'Faculty': 'XYZ'}\n",
      "{'_id': '4', 'companyName': 'iNeuron', 'Faculty': 'ABC'}\n",
      "{'_id': '5', 'companyName': 'iNeuron', 'Faculty': 'PQR'}\n"
     ]
    }
   ],
   "source": [
    "results = faculties.find()\n",
    "for res in results:\n",
    "    print(res)"
   ]
  },
  {
   "cell_type": "code",
   "execution_count": 81,
   "metadata": {},
   "outputs": [
    {
     "name": "stdout",
     "output_type": "stream",
     "text": [
      "{'_id': '1', 'companyName': 'iNeuron', 'Faculty': 'Sudhanshu Kumar'}\n",
      "{'_id': '2', 'companyName': 'iNeuron', 'Faculty': 'Virat Sagar'}\n",
      "{'_id': '4', 'companyName': 'iNeuron', 'Faculty': 'ABC'}\n",
      "{'_id': '5', 'companyName': 'iNeuron', 'Faculty': 'PQR'}\n"
     ]
    }
   ],
   "source": [
    "faculties.delete_one({'_id': '3'})\n",
    "results = faculties.find()\n",
    "for res in results:\n",
    "    print(res)"
   ]
  },
  {
   "cell_type": "code",
   "execution_count": 82,
   "metadata": {},
   "outputs": [
    {
     "name": "stdout",
     "output_type": "stream",
     "text": [
      "{'_id': '1', 'companyName': 'iNeuron', 'Faculty': 'Sudhanshu Kumar'}\n",
      "{'_id': '2', 'companyName': 'iNeuron', 'Faculty': 'Virat Sagar'}\n",
      "{'_id': '5', 'companyName': 'iNeuron', 'Faculty': 'PQR'}\n"
     ]
    }
   ],
   "source": [
    "query = {'Faculty': 'ABC'}\n",
    "faculties.delete_one(query)\n",
    "results = faculties.find()\n",
    "for res in results:\n",
    "    print(res)"
   ]
  },
  {
   "cell_type": "code",
   "execution_count": 87,
   "metadata": {},
   "outputs": [],
   "source": [
    "query = {'_id' : {'$gt': '2'}}"
   ]
  },
  {
   "cell_type": "code",
   "execution_count": 88,
   "metadata": {},
   "outputs": [
    {
     "name": "stdout",
     "output_type": "stream",
     "text": [
      "{'_id': '1', 'companyName': 'iNeuron', 'Faculty': 'Sudhanshu Kumar'}\n",
      "{'_id': '2', 'companyName': 'iNeuron', 'Faculty': 'Virat Sagar'}\n"
     ]
    }
   ],
   "source": [
    "faculties.delete_many(query)\n",
    "results = faculties.find()\n",
    "for res in results:\n",
    "    print(res)"
   ]
  },
  {
   "cell_type": "code",
   "execution_count": 89,
   "metadata": {},
   "outputs": [
    {
     "data": {
      "text/plain": [
       "<pymongo.results.InsertManyResult at 0x1af95f34c80>"
      ]
     },
     "execution_count": 89,
     "metadata": {},
     "output_type": "execute_result"
    }
   ],
   "source": [
    "random_data = [\n",
    "    {'_id': '3', 'companyName': 'iNeuron', 'Faculty': 'XYZ'},\n",
    "    {'_id': '4', 'companyName': 'iNeuron', 'Faculty': 'ABC'},\n",
    "    {'_id': '5', 'companyName': 'iNeuron', 'Faculty': 'PQR'},\n",
    "]\n",
    "\n",
    "faculties.insert_many(random_data)"
   ]
  },
  {
   "cell_type": "code",
   "execution_count": 90,
   "metadata": {},
   "outputs": [
    {
     "name": "stdout",
     "output_type": "stream",
     "text": [
      "{'_id': '1', 'companyName': 'iNeuron', 'Faculty': 'Sudhanshu Kumar'}\n",
      "{'_id': '2', 'companyName': 'iNeuron', 'Faculty': 'Virat Sagar'}\n"
     ]
    }
   ],
   "source": [
    "faculties.delete_many(query)\n",
    "results = faculties.find()\n",
    "for res in results:\n",
    "    print(res)"
   ]
  },
  {
   "cell_type": "code",
   "execution_count": 91,
   "metadata": {},
   "outputs": [
    {
     "data": {
      "text/plain": [
       "<pymongo.results.InsertManyResult at 0x1af96808c40>"
      ]
     },
     "execution_count": 91,
     "metadata": {},
     "output_type": "execute_result"
    }
   ],
   "source": [
    "random_data = [\n",
    "    {'_id': '3', 'companyName': 'iNeuron', 'Faculty': 'XYZ'},\n",
    "    {'_id': '4', 'companyName': 'iNeuron', 'Faculty': 'ABC'},\n",
    "    {'_id': '5', 'companyName': 'iNeuron', 'Faculty': 'PQR'},\n",
    "]\n",
    "\n",
    "faculties.insert_many(random_data)"
   ]
  },
  {
   "cell_type": "code",
   "execution_count": 92,
   "metadata": {},
   "outputs": [
    {
     "name": "stdout",
     "output_type": "stream",
     "text": [
      "{'_id': '1', 'companyName': 'iNeuron', 'Faculty': 'Sudhanshu Kumar'}\n",
      "{'_id': '2', 'companyName': 'iNeuron', 'Faculty': 'Virat Sagar'}\n",
      "{'_id': '4', 'companyName': 'iNeuron', 'Faculty': 'ABC'}\n",
      "{'_id': '5', 'companyName': 'iNeuron', 'Faculty': 'PQR'}\n"
     ]
    }
   ],
   "source": [
    "faculties.delete_one(query)\n",
    "results = faculties.find()\n",
    "for res in results:\n",
    "    print(res)"
   ]
  },
  {
   "cell_type": "code",
   "execution_count": 93,
   "metadata": {},
   "outputs": [
    {
     "data": {
      "text/plain": [
       "<pymongo.results.DeleteResult at 0x1af96361a80>"
      ]
     },
     "execution_count": 93,
     "metadata": {},
     "output_type": "execute_result"
    }
   ],
   "source": [
    "faculties.delete_many({})"
   ]
  },
  {
   "cell_type": "code",
   "execution_count": 94,
   "metadata": {},
   "outputs": [],
   "source": [
    "results = faculties.find()\n",
    "for res in results:\n",
    "    print(res)"
   ]
  },
  {
   "cell_type": "code",
   "execution_count": 95,
   "metadata": {},
   "outputs": [],
   "source": [
    "faculties.drop()"
   ]
  },
  {
   "cell_type": "code",
   "execution_count": 96,
   "metadata": {},
   "outputs": [
    {
     "name": "stdout",
     "output_type": "stream",
     "text": [
      "ineuron_products\n",
      "ineuron_products exist in Database(MongoClient(host=['localhost:27017'], document_class=dict, tz_aware=False, connect=True), 'ineuron')\n"
     ]
    },
    {
     "data": {
      "text/plain": [
       "True"
      ]
     },
     "execution_count": 96,
     "metadata": {},
     "output_type": "execute_result"
    }
   ],
   "source": [
    "print(collection_name)\n",
    "check_Collection_Exists(dataBase, collection_name)"
   ]
  },
  {
   "cell_type": "code",
   "execution_count": 97,
   "metadata": {},
   "outputs": [
    {
     "name": "stdout",
     "output_type": "stream",
     "text": [
      "iNeuron_Faculties does not exist in Database(MongoClient(host=['localhost:27017'], document_class=dict, tz_aware=False, connect=True), 'ineuron') or no documents are present in the collection\n"
     ]
    },
    {
     "data": {
      "text/plain": [
       "False"
      ]
     },
     "execution_count": 97,
     "metadata": {},
     "output_type": "execute_result"
    }
   ],
   "source": [
    "check_Collection_Exists(dataBase, 'iNeuron_Faculties')"
   ]
  },
  {
   "cell_type": "code",
   "execution_count": 98,
   "metadata": {},
   "outputs": [
    {
     "data": {
      "text/plain": [
       "'iNeuron_Faculties'"
      ]
     },
     "execution_count": 98,
     "metadata": {},
     "output_type": "execute_result"
    }
   ],
   "source": [
    "COLLECTION_NAME"
   ]
  },
  {
   "cell_type": "code",
   "execution_count": 99,
   "metadata": {},
   "outputs": [
    {
     "name": "stdout",
     "output_type": "stream",
     "text": [
      "iNeuron_Faculties does not exist in Database(MongoClient(host=['localhost:27017'], document_class=dict, tz_aware=False, connect=True), 'ineuron') or no documents are present in the collection\n"
     ]
    },
    {
     "data": {
      "text/plain": [
       "False"
      ]
     },
     "execution_count": 99,
     "metadata": {},
     "output_type": "execute_result"
    }
   ],
   "source": [
    "check_Collection_Exists(dataBase, COLLECTION_NAME)"
   ]
  },
  {
   "cell_type": "code",
   "execution_count": 100,
   "metadata": {},
   "outputs": [
    {
     "data": {
      "text/plain": [
       "'ineuron_products'"
      ]
     },
     "execution_count": 100,
     "metadata": {},
     "output_type": "execute_result"
    }
   ],
   "source": [
    "collection_name"
   ]
  },
  {
   "cell_type": "code",
   "execution_count": 102,
   "metadata": {},
   "outputs": [
    {
     "name": "stdout",
     "output_type": "stream",
     "text": [
      "{'_id': ObjectId('60125347daebad2804ebc790'), 'companyName': 'iNeuron', 'product': 'Affordable AI', 'courseOffered': 'Deep Learning for Computer Vision'}\n",
      "{'_id': ObjectId('601254d3daebad2804ebc791'), 'companyName': 'iNeuron', 'product': 'Affordable AI', 'courseOffered': 'Deep Learning for Computer Vision'}\n",
      "{'_id': ObjectId('601254eadaebad2804ebc792'), 'companyName': 'iNeuron', 'product': 'Affordable44 AI', 'courseOffered': 'Deep Learning for Computer Vision'}\n",
      "{'_id': ObjectId('601254fedaebad2804ebc793'), 'companyName': 'iNeuron', 'product': 'Affordable AI', 'courseOffered': 'Deep Learning for Computer Vision'}\n",
      "{'_id': ObjectId('60125582daebad2804ebc794'), 'companyName': 'iNeuron', 'product': 'Affordable AI', 'courseOffered': 'Machine Learning with Deployment'}\n",
      "{'_id': ObjectId('60125582daebad2804ebc795'), 'companyName': 'iNeuron', 'product': 'Affordable AI', 'courseOffered': 'Deep Learning for NLP and Computer vision'}\n",
      "{'_id': ObjectId('60125582daebad2804ebc796'), 'companyName': 'iNeuron', 'product': 'Master Program', 'courseOffered': 'Data Science Masters Program'}\n",
      "{'_id': ObjectId('601256c3daebad2804ebc797'), 'id': '0001', 'type': 'donut', 'name': 'Cake', 'ppu': 0.55, 'batters': {'batter': [{'id': '1001', 'type': 'Regular'}, {'id': '1002', 'type': 'Chocolate'}, {'id': '1003', 'type': 'Blueberry'}, {'id': '1004', 'type': \"Devil's Food\"}]}, 'topping': [{'id': '5001', 'type': 'None'}, {'id': '5002', 'type': 'Glazed'}, {'id': '5005', 'type': 'Sugar'}, {'id': '5007', 'type': 'Powdered Sugar'}, {'id': '5006', 'type': 'Chocolate with Sprinkles'}, {'id': '5003', 'type': 'Chocolate'}, {'id': '5004', 'type': 'Maple'}]}\n",
      "{'_id': ObjectId('601257dcdaebad2804ebc798'), 'id': '0002', 'type': 'donut', 'name': 'Cake', 'ppu': 0.55, 'batters': {'batter': [{'id': '1001', 'type': 'Regular'}, {'id': '1002', 'type': 'Chocolate'}, {'id': '1003', 'type': 'Blueberry'}, {'id': '1004', 'type': \"Devil's Food\"}]}, 'topping': [{'id': '5001', 'type': 'None'}, {'id': '5002', 'type': 'Glazed'}, {'id': '5005', 'type': 'Sugar'}, {'id': '5007', 'type': 'Powdered Sugar'}, {'id': '5006', 'type': 'Chocolate with Sprinkles'}, {'id': '5003', 'type': 'Chocolate'}, {'id': '5004', 'type': 'Maple'}]}\n"
     ]
    }
   ],
   "source": [
    "results = products.find()\n",
    "for res in results:\n",
    "    print(res)"
   ]
  },
  {
   "cell_type": "code",
   "execution_count": 104,
   "metadata": {},
   "outputs": [
    {
     "data": {
      "text/plain": [
       "<pymongo.results.UpdateResult at 0x1af9646f280>"
      ]
     },
     "execution_count": 104,
     "metadata": {},
     "output_type": "execute_result"
    }
   ],
   "source": [
    "present_data = {'courseOffered': 'Machine Learning with Deployment'}\n",
    "new_data = {\"$set\":{'courseOffered': 'ML and DL with Deployment'}}\n",
    "products.update_one(present_data, new_data)"
   ]
  },
  {
   "cell_type": "code",
   "execution_count": 105,
   "metadata": {},
   "outputs": [
    {
     "name": "stdout",
     "output_type": "stream",
     "text": [
      "{'_id': ObjectId('60125347daebad2804ebc790'), 'companyName': 'iNeuron', 'product': 'Affordable AI', 'courseOffered': 'Deep Learning for Computer Vision'}\n",
      "{'_id': ObjectId('601254d3daebad2804ebc791'), 'companyName': 'iNeuron', 'product': 'Affordable AI', 'courseOffered': 'Deep Learning for Computer Vision'}\n",
      "{'_id': ObjectId('601254eadaebad2804ebc792'), 'companyName': 'iNeuron', 'product': 'Affordable44 AI', 'courseOffered': 'Deep Learning for Computer Vision'}\n",
      "{'_id': ObjectId('601254fedaebad2804ebc793'), 'companyName': 'iNeuron', 'product': 'Affordable AI', 'courseOffered': 'Deep Learning for Computer Vision'}\n",
      "{'_id': ObjectId('60125582daebad2804ebc794'), 'companyName': 'iNeuron', 'product': 'Affordable AI', 'courseOffered': 'ML and DL with Deployment'}\n",
      "{'_id': ObjectId('60125582daebad2804ebc795'), 'companyName': 'iNeuron', 'product': 'Affordable AI', 'courseOffered': 'Deep Learning for NLP and Computer vision'}\n",
      "{'_id': ObjectId('60125582daebad2804ebc796'), 'companyName': 'iNeuron', 'product': 'Master Program', 'courseOffered': 'Data Science Masters Program'}\n",
      "{'_id': ObjectId('601256c3daebad2804ebc797'), 'id': '0001', 'type': 'donut', 'name': 'Cake', 'ppu': 0.55, 'batters': {'batter': [{'id': '1001', 'type': 'Regular'}, {'id': '1002', 'type': 'Chocolate'}, {'id': '1003', 'type': 'Blueberry'}, {'id': '1004', 'type': \"Devil's Food\"}]}, 'topping': [{'id': '5001', 'type': 'None'}, {'id': '5002', 'type': 'Glazed'}, {'id': '5005', 'type': 'Sugar'}, {'id': '5007', 'type': 'Powdered Sugar'}, {'id': '5006', 'type': 'Chocolate with Sprinkles'}, {'id': '5003', 'type': 'Chocolate'}, {'id': '5004', 'type': 'Maple'}]}\n",
      "{'_id': ObjectId('601257dcdaebad2804ebc798'), 'id': '0002', 'type': 'donut', 'name': 'Cake', 'ppu': 0.55, 'batters': {'batter': [{'id': '1001', 'type': 'Regular'}, {'id': '1002', 'type': 'Chocolate'}, {'id': '1003', 'type': 'Blueberry'}, {'id': '1004', 'type': \"Devil's Food\"}]}, 'topping': [{'id': '5001', 'type': 'None'}, {'id': '5002', 'type': 'Glazed'}, {'id': '5005', 'type': 'Sugar'}, {'id': '5007', 'type': 'Powdered Sugar'}, {'id': '5006', 'type': 'Chocolate with Sprinkles'}, {'id': '5003', 'type': 'Chocolate'}, {'id': '5004', 'type': 'Maple'}]}\n"
     ]
    }
   ],
   "source": [
    "results = products.find()\n",
    "for res in results:\n",
    "    print(res)"
   ]
  },
  {
   "cell_type": "code",
   "execution_count": 106,
   "metadata": {},
   "outputs": [
    {
     "name": "stdout",
     "output_type": "stream",
     "text": [
      "{'_id': ObjectId('60125347daebad2804ebc790'), 'companyName': 'iNeuron', 'product': 'Affordable AI', 'courseOffered': 'Deep Learning for Computer Vision'}\n",
      "\n",
      "{'_id': ObjectId('601254d3daebad2804ebc791'), 'companyName': 'iNeuron', 'product': 'Affordable AI', 'courseOffered': 'Deep Learning for Computer Vision'}\n",
      "\n",
      "{'_id': ObjectId('601254eadaebad2804ebc792'), 'companyName': 'iNeuron', 'product': 'Affordable44 AI', 'courseOffered': 'Deep Learning for Computer Vision'}\n",
      "\n"
     ]
    }
   ],
   "source": [
    "N_records = 3\n",
    "\n",
    "N_record = products.find().limit(N_records)\n",
    "\n",
    "for idx, record in enumerate(N_record):\n",
    "    print(f\"{record}\\n\")"
   ]
  },
  {
   "cell_type": "code",
   "execution_count": null,
   "metadata": {},
   "outputs": [],
   "source": []
  }
 ],
 "metadata": {
  "kernelspec": {
   "display_name": "Python 3",
   "language": "python",
   "name": "python3"
  },
  "language_info": {
   "codemirror_mode": {
    "name": "ipython",
    "version": 3
   },
   "file_extension": ".py",
   "mimetype": "text/x-python",
   "name": "python",
   "nbconvert_exporter": "python",
   "pygments_lexer": "ipython3",
   "version": "3.8.3"
  }
 },
 "nbformat": 4,
 "nbformat_minor": 4
}
