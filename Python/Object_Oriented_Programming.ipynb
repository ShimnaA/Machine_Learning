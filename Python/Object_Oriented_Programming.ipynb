{
 "cells": [
  {
   "cell_type": "markdown",
   "metadata": {},
   "source": [
    "### Write methods in a class"
   ]
  },
  {
   "cell_type": "code",
   "execution_count": 23,
   "metadata": {},
   "outputs": [],
   "source": [
    "import sqlite3\n",
    "\n",
    "class DataBaseOperations:\n",
    "    \n",
    "    def __init__(self, databasename):\n",
    "        self.databasename = databasename\n",
    "        \n",
    "    def createDatabase(self):\n",
    "        try:\n",
    "            conn = sqlite3.connect(self.databasename)\n",
    "            return conn\n",
    "        except ConnectionError:\n",
    "            raise ConnectionError\n",
    "            \n",
    "    def createTable(self, tablename, dictionaryofColumnsAndColumnDatatypes):\n",
    "        try:\n",
    "            conn = self.createDatabase()\n",
    "            for key in dictionaryofColumnsAndColumnDatatypes:\n",
    "                col_datatype = dictionaryofColumnsAndColumnDatatypes[key]\n",
    "                try:\n",
    "                    conn.execute('Alter Table {tableName} ADD Column \"{columnName}\" {dataType}'.format(tableName=tablename,\n",
    "                                                                                                      columnName=key,\n",
    "                                                                                                      dataType=col_datatype) )\n",
    "                    \n",
    "                except:\n",
    "                    conn.execute(\"Create Table {tableName} ({columnName} {dataType})\".format(tableName = tablename,\n",
    "                                                                                            columnName=key,\n",
    "                                                                                            dataType=col_datatype) )\n",
    "                \n",
    "            print(\"table {} created in database {}\".format(tablename, self.databasename))\n",
    "            self.closeDBConnection(conn)\n",
    "            print(\"Connection to database closed\")\n",
    "        except Exception as e:\n",
    "            conn.rollback()\n",
    "            self.closeDBConnection(conn)\n",
    "            print(\"Connection to database closed\")\n",
    "            \n",
    "            print(\"Exception Occured\" + str(e))\n",
    "            \n",
    "    def insert_into_table(self, tablename, listofvalues):\n",
    "        try:\n",
    "            conn = self.createDatabase()\n",
    "            conn.execute(\"Insert into {tableName} values({values})\".format(tableName=tablename, values=listofvalues))\n",
    "            conn.commit()\n",
    "            print(\"VAlues inserted successfully\")\n",
    "            self.closeDBConnection(conn)\n",
    "            print(\"Connection to database closed \")\n",
    "        except Exception as e:\n",
    "            conn.rollback()\n",
    "            self.closeDBConnection(conn)\n",
    "            print(\"Connection to database closed\")\n",
    "            print(\"error occured\" + str(e))\n",
    "            \n",
    "    def select_From_Table(self, tablename):\n",
    "        try:\n",
    "            conn = self.createDatabase()\n",
    "            c = conn.cursor()\n",
    "            c.execute(\"select * from {}\".format(tablename))\n",
    "            print(\"Values in table \" , c.fetchall())\n",
    "            self.closeDBConnection(conn)\n",
    "            print(\"Connection to database closed\")\n",
    "        except Exception as e:\n",
    "            self.closeDBConnection(conn)\n",
    "            print(\"Connection to database closed\")\n",
    "            print(\"error occured \" + str(e))\n",
    "            \n",
    "    def closeDBConnection(self, dbconnection):\n",
    "        dbconnection.close()\n",
    "            \n",
    "            "
   ]
  },
  {
   "cell_type": "code",
   "execution_count": 24,
   "metadata": {},
   "outputs": [],
   "source": [
    "db = DataBaseOperations(\"test5\")"
   ]
  },
  {
   "cell_type": "code",
   "execution_count": 19,
   "metadata": {},
   "outputs": [
    {
     "data": {
      "text/plain": [
       "<sqlite3.Connection at 0x1a5a53217b0>"
      ]
     },
     "execution_count": 19,
     "metadata": {},
     "output_type": "execute_result"
    }
   ],
   "source": [
    "db.createDatabase()"
   ]
  },
  {
   "cell_type": "code",
   "execution_count": 14,
   "metadata": {},
   "outputs": [
    {
     "name": "stdout",
     "output_type": "stream",
     "text": [
      "Connection to database closed\n",
      "Exception Occuredtable Student already exists\n"
     ]
    }
   ],
   "source": [
    "tableDetails = {\"studentId\" : \"INTEGER\", \"studentRoll\" : \"INTEGER\", \"studentMarks\" : \"FLOAT\"}\n",
    "db.createTable(\"Student\", tableDetails)"
   ]
  },
  {
   "cell_type": "code",
   "execution_count": 15,
   "metadata": {},
   "outputs": [
    {
     "name": "stdout",
     "output_type": "stream",
     "text": [
      "VAlues inserted successfully\n",
      "Connection to database closed \n"
     ]
    }
   ],
   "source": [
    "valuesToisnert= ('1,1,97')\n",
    "db.insert_into_table(\"Student\", valuesToisnert)"
   ]
  },
  {
   "cell_type": "code",
   "execution_count": 26,
   "metadata": {},
   "outputs": [
    {
     "name": "stdout",
     "output_type": "stream",
     "text": [
      "VAlues inserted successfully\n",
      "Connection to database closed \n"
     ]
    }
   ],
   "source": [
    "valuesToisnert= ('2,2,99')\n",
    "db.insert_into_table(\"Student\", valuesToisnert)"
   ]
  },
  {
   "cell_type": "code",
   "execution_count": 27,
   "metadata": {},
   "outputs": [
    {
     "name": "stdout",
     "output_type": "stream",
     "text": [
      "Values in table  [(1, 1, 97.0), (1, 1, 97.0), (2, 2, 99.0), (2, 2, 99.0)]\n",
      "Connection to database closed\n"
     ]
    }
   ],
   "source": [
    "db.select_From_Table(\"Student\")"
   ]
  },
  {
   "cell_type": "markdown",
   "metadata": {},
   "source": [
    "### Let's understand some other concepts related to OOPS - INHERITANCE"
   ]
  },
  {
   "cell_type": "code",
   "execution_count": 28,
   "metadata": {},
   "outputs": [],
   "source": [
    "class StudentMarks(DataBaseOperations):\n",
    "    \n",
    "    def __init__(self, id, rollnum, marks):\n",
    "        self.ID = id\n",
    "        self.RollNum =  rollnum\n",
    "        self.Marks = marks\n",
    "        self.databasename = \"StudentDetails\"\n",
    "        \n",
    "    "
   ]
  },
  {
   "cell_type": "code",
   "execution_count": 30,
   "metadata": {},
   "outputs": [],
   "source": [
    "student1 = StudentMarks(1, 13, 93)"
   ]
  },
  {
   "cell_type": "code",
   "execution_count": 31,
   "metadata": {},
   "outputs": [
    {
     "name": "stdout",
     "output_type": "stream",
     "text": [
      "table StudentMarks created in database StudentDetails\n",
      "Connection to database closed\n"
     ]
    }
   ],
   "source": [
    "table_details = {\"StudentID\": \"INTEGER\", \"RollNum\": \"INTEGER\", \"Marks\": \"FLOAT\"}\n",
    "student1.createTable(\"StudentMarks\", table_details)"
   ]
  },
  {
   "cell_type": "code",
   "execution_count": 35,
   "metadata": {},
   "outputs": [
    {
     "name": "stdout",
     "output_type": "stream",
     "text": [
      "VAlues inserted successfully\n",
      "Connection to database closed \n"
     ]
    }
   ],
   "source": [
    "values = (\"{},{},{}\".format(student1.ID, student1.RollNum, student1.Marks))\n",
    "student1.insert_into_table(\"StudentMarks\",values)"
   ]
  },
  {
   "cell_type": "code",
   "execution_count": 37,
   "metadata": {},
   "outputs": [
    {
     "name": "stdout",
     "output_type": "stream",
     "text": [
      "Values in table  [(1, 13, 93.0)]\n",
      "Connection to database closed\n"
     ]
    }
   ],
   "source": [
    "student1.select_From_Table(\"StudentMarks\")"
   ]
  },
  {
   "cell_type": "markdown",
   "metadata": {},
   "source": [
    "### Polimorphism"
   ]
  },
  {
   "cell_type": "code",
   "execution_count": 38,
   "metadata": {},
   "outputs": [],
   "source": [
    "class Instagram:\n",
    "    def share_stories(self):\n",
    "        print(\"Share stories on Instagram\")\n",
    "        \n",
    "class Facebook:\n",
    "    def share_stories(self):\n",
    "        print(\"Share stories on Facebook\")\n",
    "\n",
    "        \n",
    "def share_application_stories(application):\n",
    "    application.share_stories()"
   ]
  },
  {
   "cell_type": "code",
   "execution_count": 39,
   "metadata": {},
   "outputs": [
    {
     "name": "stdout",
     "output_type": "stream",
     "text": [
      "Share stories on Instagram\n"
     ]
    }
   ],
   "source": [
    "insta = Instagram()\n",
    "facebook = Facebook()\n",
    "\n",
    "share_application_stories(insta)"
   ]
  },
  {
   "cell_type": "code",
   "execution_count": 40,
   "metadata": {},
   "outputs": [
    {
     "name": "stdout",
     "output_type": "stream",
     "text": [
      "Share stories on Facebook\n"
     ]
    }
   ],
   "source": [
    "share_application_stories(facebook)"
   ]
  },
  {
   "cell_type": "markdown",
   "metadata": {},
   "source": [
    "### MEthod Overriding"
   ]
  },
  {
   "cell_type": "code",
   "execution_count": 53,
   "metadata": {},
   "outputs": [],
   "source": [
    "class StudentDetails(DataBaseOperations):\n",
    "    \n",
    "    def __init__(self, firstname, lastname, rollnum ,Class):\n",
    "        self.Firstname = firstname\n",
    "        self.Lastname = lastname\n",
    "        self.Rollnum = rollnum\n",
    "        self.Class = Class\n",
    "        self.databasename = \"StudentDetails\"\n",
    "        \n",
    "    def insert_into_table(self, tablename):\n",
    "        \n",
    "        firstname = '\"' + self.Firstname +  '\"'\n",
    "        lastname = '\"'+ self.Lastname +  '\"'\n",
    "        Class = '\"'+ self.Class +  '\"'\n",
    "        listofvalues = (\"{}, {}, {}, {}\".format(firstname, lastname, self.Rollnum,Class))\n",
    "        try:\n",
    "            \n",
    "            conn =  self.createDatabase()\n",
    "            conn.execute(\"Insert into {tableName} values({values})\".format(tableName=tablename, values=listofvalues))\n",
    "            conn.commit()\n",
    "            print(\"Values inserted to {} successfully\".format(tablename))\n",
    "            self.closeDBConnection(conn)\n",
    "            print(\"connection to database closed\")\n",
    "        except Exception as e:\n",
    "            self.closeDBConnection(conn)\n",
    "            print(\"connection closed\")\n",
    "            print(\"error occured \" + str(e))"
   ]
  },
  {
   "cell_type": "code",
   "execution_count": 54,
   "metadata": {},
   "outputs": [],
   "source": [
    "student1  = StudentDetails(\"ram\", \"kumar\", 23, \"Ten\")"
   ]
  },
  {
   "cell_type": "code",
   "execution_count": 55,
   "metadata": {},
   "outputs": [
    {
     "name": "stdout",
     "output_type": "stream",
     "text": [
      "Connection to database closed\n",
      "Exception Occuredtable StudentDetails already exists\n"
     ]
    }
   ],
   "source": [
    "tabledetails = {\"FirstName\" : \"Varchar\", \"LastName\": \"Varchar\", \"RollNum\": \"Integer\", \"StudentClass\": \"Varchar\"}\n",
    "student1.createTable(\"StudentDetails\",tabledetails) "
   ]
  },
  {
   "cell_type": "code",
   "execution_count": 56,
   "metadata": {},
   "outputs": [
    {
     "name": "stdout",
     "output_type": "stream",
     "text": [
      "Values inserted to StudentDetails successfully\n",
      "connection to database closed\n"
     ]
    }
   ],
   "source": [
    "student1.insert_into_table(\"StudentDetails\")"
   ]
  },
  {
   "cell_type": "code",
   "execution_count": 57,
   "metadata": {},
   "outputs": [
    {
     "name": "stdout",
     "output_type": "stream",
     "text": [
      "Values inserted to StudentDetails successfully\n",
      "connection to database closed\n"
     ]
    }
   ],
   "source": [
    "student1.insert_into_table(\"StudentDetails\")"
   ]
  },
  {
   "cell_type": "code",
   "execution_count": 59,
   "metadata": {},
   "outputs": [
    {
     "name": "stdout",
     "output_type": "stream",
     "text": [
      "Values in table  [('ram', 'kumar', 23, 'Ten'), ('ram', 'kumar', 23, 'Ten')]\n",
      "Connection to database closed\n"
     ]
    }
   ],
   "source": [
    "student1.select_From_Table(\"StudentDetails\")"
   ]
  },
  {
   "cell_type": "markdown",
   "metadata": {},
   "source": [
    "### Encapsulation"
   ]
  },
  {
   "cell_type": "code",
   "execution_count": 81,
   "metadata": {},
   "outputs": [],
   "source": [
    "class BonusDistribution:\n",
    "    \n",
    "    def __init__ (self,employeeId, employeeRating):\n",
    "\n",
    "        self.empId = employeeId\n",
    "        self.empRating = employeeRating\n",
    "        self.__bonusforRatingA = \"70%\"  #making value private\n",
    "        self.__bonusforRatingB = \"60%\"  #making value private\n",
    "        self.__bonusforRatingC = \"50%\"  #making value private\n",
    "        self.__bonusforRatingD = \"30%\"  #making value private\n",
    "        self.__bonusforRatingForRest = \"No Bonus\" #making value private\n",
    "\n",
    "    def bonus_calculator(self):\n",
    "        if self.empRating == 'A':\n",
    "            bonus = self.__bonusforRatingA\n",
    "            msg = \"Bonus is \" + bonus\n",
    "            return msg\n",
    "        elif self.empRating == 'B':\n",
    "            bonus = self.__bonusforRatingB\n",
    "            msg = \"Bonus is \" + bonus\n",
    "            return msg\n",
    "        elif self.empRating == 'C':\n",
    "            bonus = self.__bonusforRatingC\n",
    "            msg = \"Bonus is \" + bonus\n",
    "            return msg\n",
    "        elif self.empRating == 'D':\n",
    "            bonus = self.__bonusforRatingD\n",
    "            msg = \"Bonus is \" + bonus\n",
    "            return msg\n",
    "        else: \n",
    "            bonus = self.__bonusforRatingForRest\n",
    "            msg = bonus\n",
    "            return msg\n",
    "        \n",
    "    def __change_bonus(self, bonus):\n",
    "        self.__bonusforRatingForRest = bonus"
   ]
  },
  {
   "cell_type": "code",
   "execution_count": 82,
   "metadata": {},
   "outputs": [
    {
     "data": {
      "text/plain": [
       "'Bonus is 70%'"
      ]
     },
     "execution_count": 82,
     "metadata": {},
     "output_type": "execute_result"
    }
   ],
   "source": [
    "emp1 = BonusDistribution(223, \"A\")\n",
    "emp1.bonus_calculator()"
   ]
  },
  {
   "cell_type": "code",
   "execution_count": 66,
   "metadata": {},
   "outputs": [
    {
     "data": {
      "text/plain": [
       "'Bonus is 50%'"
      ]
     },
     "execution_count": 66,
     "metadata": {},
     "output_type": "execute_result"
    }
   ],
   "source": [
    "emp1 = BonusDistribution(223, \"C\")\n",
    "emp1.bonus_calculator()"
   ]
  },
  {
   "cell_type": "code",
   "execution_count": 70,
   "metadata": {},
   "outputs": [
    {
     "data": {
      "text/plain": [
       "'No Bonus'"
      ]
     },
     "execution_count": 70,
     "metadata": {},
     "output_type": "execute_result"
    }
   ],
   "source": [
    "emp1 = BonusDistribution(223, \"K\")\n",
    "emp1.bonus_calculator()"
   ]
  },
  {
   "cell_type": "code",
   "execution_count": 71,
   "metadata": {},
   "outputs": [],
   "source": [
    "emp1.__bonusforRatingForRest = \"50%\""
   ]
  },
  {
   "cell_type": "code",
   "execution_count": 72,
   "metadata": {},
   "outputs": [
    {
     "data": {
      "text/plain": [
       "'No Bonus'"
      ]
     },
     "execution_count": 72,
     "metadata": {},
     "output_type": "execute_result"
    }
   ],
   "source": [
    "emp1.bonus_calculator()"
   ]
  },
  {
   "cell_type": "code",
   "execution_count": 73,
   "metadata": {},
   "outputs": [],
   "source": [
    "#Private attribute not changed"
   ]
  },
  {
   "cell_type": "code",
   "execution_count": 75,
   "metadata": {},
   "outputs": [
    {
     "ename": "AttributeError",
     "evalue": "'BonusDistribution' object has no attribute '__change_bonus'",
     "output_type": "error",
     "traceback": [
      "\u001b[1;31m---------------------------------------------------------------------------\u001b[0m",
      "\u001b[1;31mAttributeError\u001b[0m                            Traceback (most recent call last)",
      "\u001b[1;32m<ipython-input-75-db122f10a69b>\u001b[0m in \u001b[0;36m<module>\u001b[1;34m\u001b[0m\n\u001b[1;32m----> 1\u001b[1;33m \u001b[0memp1\u001b[0m\u001b[1;33m.\u001b[0m\u001b[0m__change_bonus\u001b[0m\u001b[1;33m(\u001b[0m\u001b[1;34m\"90%\"\u001b[0m\u001b[1;33m)\u001b[0m\u001b[1;33m\u001b[0m\u001b[1;33m\u001b[0m\u001b[0m\n\u001b[0m",
      "\u001b[1;31mAttributeError\u001b[0m: 'BonusDistribution' object has no attribute '__change_bonus'"
     ]
    }
   ],
   "source": [
    "emp1.__change_bonus(\"90%\")"
   ]
  },
  {
   "cell_type": "code",
   "execution_count": 86,
   "metadata": {},
   "outputs": [],
   "source": [
    "emp1._BonusDistribution__change_bonus(\"90%\")"
   ]
  },
  {
   "cell_type": "code",
   "execution_count": 89,
   "metadata": {},
   "outputs": [],
   "source": [
    "emp3 = BonusDistribution(223, \"K\")\n",
    "emp3._BonusDistribution__change_bonus(\"99%\")"
   ]
  },
  {
   "cell_type": "code",
   "execution_count": 90,
   "metadata": {},
   "outputs": [
    {
     "data": {
      "text/plain": [
       "'99%'"
      ]
     },
     "execution_count": 90,
     "metadata": {},
     "output_type": "execute_result"
    }
   ],
   "source": [
    "emp3.bonus_calculator()"
   ]
  },
  {
   "cell_type": "markdown",
   "metadata": {},
   "source": [
    "### Operator OVerloading"
   ]
  },
  {
   "cell_type": "code",
   "execution_count": 99,
   "metadata": {},
   "outputs": [],
   "source": [
    "class Multiply:\n",
    "    \n",
    "    def __init__(self, a):\n",
    "        self.a = a\n",
    "        \n",
    "    def __mul__(self, othervalue):\n",
    "        return self.a * othervalue.a"
   ]
  },
  {
   "cell_type": "code",
   "execution_count": 100,
   "metadata": {},
   "outputs": [],
   "source": [
    "a1 = Multiply(3)\n",
    "a2 =  Multiply(8)"
   ]
  },
  {
   "cell_type": "code",
   "execution_count": 94,
   "metadata": {},
   "outputs": [
    {
     "ename": "TypeError",
     "evalue": "unsupported operand type(s) for *: 'Multiply' and 'Multiply'",
     "output_type": "error",
     "traceback": [
      "\u001b[1;31m---------------------------------------------------------------------------\u001b[0m",
      "\u001b[1;31mTypeError\u001b[0m                                 Traceback (most recent call last)",
      "\u001b[1;32m<ipython-input-94-ea9ba2b73904>\u001b[0m in \u001b[0;36m<module>\u001b[1;34m\u001b[0m\n\u001b[1;32m----> 1\u001b[1;33m \u001b[0ma1\u001b[0m \u001b[1;33m*\u001b[0m \u001b[0ma2\u001b[0m\u001b[1;33m\u001b[0m\u001b[1;33m\u001b[0m\u001b[0m\n\u001b[0m",
      "\u001b[1;31mTypeError\u001b[0m: unsupported operand type(s) for *: 'Multiply' and 'Multiply'"
     ]
    }
   ],
   "source": [
    "a1 * a2"
   ]
  },
  {
   "cell_type": "code",
   "execution_count": 101,
   "metadata": {},
   "outputs": [
    {
     "data": {
      "text/plain": [
       "24"
      ]
     },
     "execution_count": 101,
     "metadata": {},
     "output_type": "execute_result"
    }
   ],
   "source": [
    "a1 * a2"
   ]
  },
  {
   "cell_type": "code",
   "execution_count": 102,
   "metadata": {},
   "outputs": [],
   "source": [
    "class Multiply:\n",
    "    \n",
    "    def __init__(self, a):\n",
    "        self.a = a\n",
    "        \n",
    "    def __mul__(self, othervalue):\n",
    "        return self.a +  othervalue.a +100"
   ]
  },
  {
   "cell_type": "code",
   "execution_count": 103,
   "metadata": {},
   "outputs": [],
   "source": [
    "a1 = Multiply(3)\n",
    "a2 =  Multiply(8)"
   ]
  },
  {
   "cell_type": "code",
   "execution_count": 104,
   "metadata": {},
   "outputs": [
    {
     "data": {
      "text/plain": [
       "111"
      ]
     },
     "execution_count": 104,
     "metadata": {},
     "output_type": "execute_result"
    }
   ],
   "source": [
    "a1 * a2"
   ]
  },
  {
   "cell_type": "markdown",
   "metadata": {},
   "source": [
    "### Overloading String MEthod\n"
   ]
  },
  {
   "cell_type": "code",
   "execution_count": 116,
   "metadata": {},
   "outputs": [],
   "source": [
    "class PrintInformation:\n",
    "    def __init__(self, data):\n",
    "        self.data = data\n",
    "        \n",
    "    def __str__(self):\n",
    "        return \"hello world\" + self.data"
   ]
  },
  {
   "cell_type": "code",
   "execution_count": 117,
   "metadata": {},
   "outputs": [],
   "source": [
    "pr = PrintInformation(\"mesg\")"
   ]
  },
  {
   "cell_type": "code",
   "execution_count": 118,
   "metadata": {},
   "outputs": [
    {
     "name": "stdout",
     "output_type": "stream",
     "text": [
      "hello worldmesg\n"
     ]
    }
   ],
   "source": [
    "print(pr)"
   ]
  },
  {
   "cell_type": "code",
   "execution_count": null,
   "metadata": {},
   "outputs": [],
   "source": []
  }
 ],
 "metadata": {
  "kernelspec": {
   "display_name": "Python 3",
   "language": "python",
   "name": "python3"
  },
  "language_info": {
   "codemirror_mode": {
    "name": "ipython",
    "version": 3
   },
   "file_extension": ".py",
   "mimetype": "text/x-python",
   "name": "python",
   "nbconvert_exporter": "python",
   "pygments_lexer": "ipython3",
   "version": "3.8.3"
  }
 },
 "nbformat": 4,
 "nbformat_minor": 4
}
