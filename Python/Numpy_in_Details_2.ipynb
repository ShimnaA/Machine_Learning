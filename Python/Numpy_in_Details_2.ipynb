{
 "cells": [
  {
   "cell_type": "markdown",
   "metadata": {},
   "source": [
    "## Converting continous values into categorical values"
   ]
  },
  {
   "cell_type": "code",
   "execution_count": 1,
   "metadata": {},
   "outputs": [],
   "source": [
    "# binning or bucketizing for continuous variables\n",
    "ages = [20, 22, 25, 27, 21, 23, 37, 31, 61, 45, 41, 32]"
   ]
  },
  {
   "cell_type": "code",
   "execution_count": 2,
   "metadata": {},
   "outputs": [],
   "source": [
    "import numpy as np\n",
    "import pandas as pd"
   ]
  },
  {
   "cell_type": "code",
   "execution_count": 3,
   "metadata": {},
   "outputs": [],
   "source": [
    "bins = [18, 25,35,60,80]"
   ]
  },
  {
   "cell_type": "code",
   "execution_count": 4,
   "metadata": {},
   "outputs": [],
   "source": [
    "categories =  pd.cut(ages, bins)"
   ]
  },
  {
   "cell_type": "code",
   "execution_count": 5,
   "metadata": {},
   "outputs": [
    {
     "data": {
      "text/plain": [
       "[(18, 25], (18, 25], (18, 25], (25, 35], (18, 25], ..., (25, 35], (60, 80], (35, 60], (35, 60], (25, 35]]\n",
       "Length: 12\n",
       "Categories (4, interval[int64]): [(18, 25] < (25, 35] < (35, 60] < (60, 80]]"
      ]
     },
     "execution_count": 5,
     "metadata": {},
     "output_type": "execute_result"
    }
   ],
   "source": [
    "categories"
   ]
  },
  {
   "cell_type": "code",
   "execution_count": 6,
   "metadata": {},
   "outputs": [
    {
     "data": {
      "text/plain": [
       "array([0, 0, 0, 1, 0, 0, 2, 1, 3, 2, 2, 1], dtype=int8)"
      ]
     },
     "execution_count": 6,
     "metadata": {},
     "output_type": "execute_result"
    }
   ],
   "source": [
    "categories.codes"
   ]
  },
  {
   "cell_type": "code",
   "execution_count": 7,
   "metadata": {},
   "outputs": [
    {
     "data": {
      "text/plain": [
       "IntervalIndex([(18, 25], (25, 35], (35, 60], (60, 80]],\n",
       "              closed='right',\n",
       "              dtype='interval[int64]')"
      ]
     },
     "execution_count": 7,
     "metadata": {},
     "output_type": "execute_result"
    }
   ],
   "source": [
    "categories.categories"
   ]
  },
  {
   "cell_type": "code",
   "execution_count": 8,
   "metadata": {},
   "outputs": [
    {
     "data": {
      "text/plain": [
       "(18, 25]    5\n",
       "(35, 60]    3\n",
       "(25, 35]    3\n",
       "(60, 80]    1\n",
       "dtype: int64"
      ]
     },
     "execution_count": 8,
     "metadata": {},
     "output_type": "execute_result"
    }
   ],
   "source": [
    "pd.value_counts(categories)"
   ]
  },
  {
   "cell_type": "code",
   "execution_count": 9,
   "metadata": {},
   "outputs": [
    {
     "data": {
      "text/plain": [
       "pandas.core.arrays.categorical.Categorical"
      ]
     },
     "execution_count": 9,
     "metadata": {},
     "output_type": "execute_result"
    }
   ],
   "source": [
    "type(categories)"
   ]
  },
  {
   "cell_type": "code",
   "execution_count": 11,
   "metadata": {},
   "outputs": [
    {
     "data": {
      "text/plain": [
       "[(10, 20], (20, 30], (20, 30], (20, 30], (20, 30], ..., (30, 40], (60, 70], (40, 50], (40, 50], (30, 40]]\n",
       "Length: 12\n",
       "Categories (8, interval[int64]): [(10, 20] < (20, 30] < (30, 40] < (40, 50] < (50, 60] < (60, 70] < (70, 80] < (80, 90]]"
      ]
     },
     "execution_count": 11,
     "metadata": {},
     "output_type": "execute_result"
    }
   ],
   "source": [
    "pd.cut(ages, [10,20,30,40,50,60,70,80,90], right=True )"
   ]
  },
  {
   "cell_type": "code",
   "execution_count": 12,
   "metadata": {},
   "outputs": [
    {
     "data": {
      "text/plain": [
       "[[20, 30), [20, 30), [20, 30), [20, 30), [20, 30), ..., [30, 40), [60, 70), [40, 50), [40, 50), [30, 40)]\n",
       "Length: 12\n",
       "Categories (8, interval[int64]): [[10, 20) < [20, 30) < [30, 40) < [40, 50) < [50, 60) < [60, 70) < [70, 80) < [80, 90)]"
      ]
     },
     "execution_count": 12,
     "metadata": {},
     "output_type": "execute_result"
    }
   ],
   "source": [
    "pd.cut(ages, [10,20,30,40,50,60,70,80,90], right=False )"
   ]
  },
  {
   "cell_type": "code",
   "execution_count": 13,
   "metadata": {},
   "outputs": [],
   "source": [
    "group_names = ['Youth', 'YoungAdult', 'MiddleAged', 'Senior']"
   ]
  },
  {
   "cell_type": "code",
   "execution_count": 16,
   "metadata": {},
   "outputs": [
    {
     "data": {
      "text/plain": [
       "[Youth, Youth, Youth, YoungAdult, Youth, ..., YoungAdult, Senior, MiddleAged, MiddleAged, YoungAdult]\n",
       "Length: 12\n",
       "Categories (4, object): [Youth < YoungAdult < MiddleAged < Senior]"
      ]
     },
     "execution_count": 16,
     "metadata": {},
     "output_type": "execute_result"
    }
   ],
   "source": [
    "bins = [18, 25,35,60,80]\n",
    "pd.cut(ages, bins, labels=group_names)"
   ]
  },
  {
   "cell_type": "code",
   "execution_count": 17,
   "metadata": {},
   "outputs": [
    {
     "data": {
      "text/plain": [
       "Youth         5\n",
       "MiddleAged    3\n",
       "YoungAdult    3\n",
       "Senior        1\n",
       "dtype: int64"
      ]
     },
     "execution_count": 17,
     "metadata": {},
     "output_type": "execute_result"
    }
   ],
   "source": [
    "pd.value_counts(pd.cut(ages, bins, labels=group_names))"
   ]
  },
  {
   "cell_type": "code",
   "execution_count": 18,
   "metadata": {},
   "outputs": [
    {
     "data": {
      "text/plain": [
       "[(0.27, 0.49], (0.49, 0.72], (0.27, 0.49], (0.49, 0.72], (0.49, 0.72], ..., (0.27, 0.49], (0.49, 0.72], (0.041, 0.27], (0.72, 0.94], (0.49, 0.72]]\n",
       "Length: 20\n",
       "Categories (4, interval[float64]): [(0.041, 0.27] < (0.27, 0.49] < (0.49, 0.72] < (0.72, 0.94]]"
      ]
     },
     "execution_count": 18,
     "metadata": {},
     "output_type": "execute_result"
    }
   ],
   "source": [
    "data = np.random.rand(20)\n",
    "pd.cut(data, 4, precision=2)\n"
   ]
  },
  {
   "cell_type": "code",
   "execution_count": 19,
   "metadata": {},
   "outputs": [
    {
     "data": {
      "text/plain": [
       "(0.49, 0.72]     6\n",
       "(0.041, 0.27]    6\n",
       "(0.72, 0.94]     4\n",
       "(0.27, 0.49]     4\n",
       "dtype: int64"
      ]
     },
     "execution_count": 19,
     "metadata": {},
     "output_type": "execute_result"
    }
   ],
   "source": [
    "pd.value_counts(pd.cut(data, 4, precision=2))"
   ]
  },
  {
   "cell_type": "code",
   "execution_count": 20,
   "metadata": {},
   "outputs": [
    {
     "data": {
      "text/plain": [
       "[(-0.0531, 0.617], (-0.0531, 0.617], (-3.3, -0.749], (0.617, 3.692], (-0.0531, 0.617], ..., (-3.3, -0.749], (0.617, 3.692], (0.617, 3.692], (0.617, 3.692], (-3.3, -0.749]]\n",
       "Length: 1000\n",
       "Categories (4, interval[float64]): [(-3.3, -0.749] < (-0.749, -0.0531] < (-0.0531, 0.617] < (0.617, 3.692]]"
      ]
     },
     "execution_count": 20,
     "metadata": {},
     "output_type": "execute_result"
    }
   ],
   "source": [
    "#Cut into quartiles\n",
    "data = np.random.randn(1000)\n",
    "pd.qcut(data, 4)\n"
   ]
  },
  {
   "cell_type": "code",
   "execution_count": 21,
   "metadata": {},
   "outputs": [
    {
     "data": {
      "text/plain": [
       "(0.617, 3.692]       250\n",
       "(-0.0531, 0.617]     250\n",
       "(-0.749, -0.0531]    250\n",
       "(-3.3, -0.749]       250\n",
       "dtype: int64"
      ]
     },
     "execution_count": 21,
     "metadata": {},
     "output_type": "execute_result"
    }
   ],
   "source": [
    "pd.value_counts(pd.qcut(data, 4))"
   ]
  },
  {
   "cell_type": "code",
   "execution_count": 22,
   "metadata": {},
   "outputs": [
    {
     "data": {
      "text/plain": [
       "[(-0.0531, 1.169], (-0.0531, 1.169], (-3.3, -1.409], (-0.0531, 1.169], (-0.0531, 1.169], ..., (-3.3, -1.409], (-0.0531, 1.169], (-0.0531, 1.169], (-0.0531, 1.169], (-1.409, -0.0531]]\n",
       "Length: 1000\n",
       "Categories (4, interval[float64]): [(-3.3, -1.409] < (-1.409, -0.0531] < (-0.0531, 1.169] < (1.169, 3.692]]"
      ]
     },
     "execution_count": 22,
     "metadata": {},
     "output_type": "execute_result"
    }
   ],
   "source": [
    "pd.qcut(data, [0,0.1,0.5,0.9,1.])"
   ]
  },
  {
   "cell_type": "code",
   "execution_count": 23,
   "metadata": {},
   "outputs": [
    {
     "data": {
      "text/plain": [
       "(-0.0531, 1.169]     400\n",
       "(-1.409, -0.0531]    400\n",
       "(1.169, 3.692]       100\n",
       "(-3.3, -1.409]       100\n",
       "dtype: int64"
      ]
     },
     "execution_count": 23,
     "metadata": {},
     "output_type": "execute_result"
    }
   ],
   "source": [
    "pd.value_counts(pd.qcut(data, [0,0.1,0.5,0.9,1.]))"
   ]
  },
  {
   "cell_type": "code",
   "execution_count": 24,
   "metadata": {},
   "outputs": [
    {
     "data": {
      "text/plain": [
       "[(-0.0531, 0.465], (0.465, 1.169], (-3.3, -1.409], (0.465, 1.169], (0.465, 1.169], ..., (-3.3, -1.409], (0.465, 1.169], (0.465, 1.169], (0.465, 1.169], (-1.409, -0.0531]]\n",
       "Length: 1000\n",
       "Categories (5, interval[float64]): [(-3.3, -1.409] < (-1.409, -0.0531] < (-0.0531, 0.465] < (0.465, 1.169] < (1.169, 3.692]]"
      ]
     },
     "execution_count": 24,
     "metadata": {},
     "output_type": "execute_result"
    }
   ],
   "source": [
    "pd.qcut(data, [0,0.1,0.5,0.7,0.9,1.])"
   ]
  },
  {
   "cell_type": "code",
   "execution_count": 27,
   "metadata": {},
   "outputs": [
    {
     "data": {
      "text/plain": [
       "(-0.0531, 1.169]     400\n",
       "(-1.409, -0.586]     200\n",
       "(1.169, 3.692]       100\n",
       "(-0.299, -0.0531]    100\n",
       "(-0.586, -0.299]     100\n",
       "(-3.3, -1.409]       100\n",
       "dtype: int64"
      ]
     },
     "execution_count": 27,
     "metadata": {},
     "output_type": "execute_result"
    }
   ],
   "source": [
    "pd.value_counts(pd.qcut(data, [0, 0.1, 0.3, 0.4, 0.5, 0.9, 1.]))"
   ]
  },
  {
   "cell_type": "code",
   "execution_count": 28,
   "metadata": {},
   "outputs": [],
   "source": [
    "#filter out the outliers"
   ]
  },
  {
   "cell_type": "code",
   "execution_count": 32,
   "metadata": {},
   "outputs": [
    {
     "data": {
      "text/html": [
       "<div>\n",
       "<style scoped>\n",
       "    .dataframe tbody tr th:only-of-type {\n",
       "        vertical-align: middle;\n",
       "    }\n",
       "\n",
       "    .dataframe tbody tr th {\n",
       "        vertical-align: top;\n",
       "    }\n",
       "\n",
       "    .dataframe thead th {\n",
       "        text-align: right;\n",
       "    }\n",
       "</style>\n",
       "<table border=\"1\" class=\"dataframe\">\n",
       "  <thead>\n",
       "    <tr style=\"text-align: right;\">\n",
       "      <th></th>\n",
       "      <th>0</th>\n",
       "      <th>1</th>\n",
       "      <th>2</th>\n",
       "      <th>3</th>\n",
       "      <th>4</th>\n",
       "      <th>5</th>\n",
       "      <th>6</th>\n",
       "    </tr>\n",
       "  </thead>\n",
       "  <tbody>\n",
       "    <tr>\n",
       "      <th>count</th>\n",
       "      <td>1000.000000</td>\n",
       "      <td>1000.000000</td>\n",
       "      <td>1000.000000</td>\n",
       "      <td>1000.000000</td>\n",
       "      <td>1000.000000</td>\n",
       "      <td>1000.000000</td>\n",
       "      <td>1000.000000</td>\n",
       "    </tr>\n",
       "    <tr>\n",
       "      <th>mean</th>\n",
       "      <td>-0.031535</td>\n",
       "      <td>-0.019797</td>\n",
       "      <td>-0.009452</td>\n",
       "      <td>0.023961</td>\n",
       "      <td>0.075583</td>\n",
       "      <td>0.009913</td>\n",
       "      <td>0.024643</td>\n",
       "    </tr>\n",
       "    <tr>\n",
       "      <th>std</th>\n",
       "      <td>0.988387</td>\n",
       "      <td>0.997779</td>\n",
       "      <td>1.012735</td>\n",
       "      <td>1.018310</td>\n",
       "      <td>0.990005</td>\n",
       "      <td>0.967625</td>\n",
       "      <td>1.009430</td>\n",
       "    </tr>\n",
       "    <tr>\n",
       "      <th>min</th>\n",
       "      <td>-3.032100</td>\n",
       "      <td>-3.634010</td>\n",
       "      <td>-3.780945</td>\n",
       "      <td>-3.344809</td>\n",
       "      <td>-3.508140</td>\n",
       "      <td>-2.536288</td>\n",
       "      <td>-2.890089</td>\n",
       "    </tr>\n",
       "    <tr>\n",
       "      <th>25%</th>\n",
       "      <td>-0.683211</td>\n",
       "      <td>-0.697959</td>\n",
       "      <td>-0.676132</td>\n",
       "      <td>-0.681857</td>\n",
       "      <td>-0.586835</td>\n",
       "      <td>-0.610543</td>\n",
       "      <td>-0.655051</td>\n",
       "    </tr>\n",
       "    <tr>\n",
       "      <th>50%</th>\n",
       "      <td>-0.019131</td>\n",
       "      <td>-0.018273</td>\n",
       "      <td>-0.003047</td>\n",
       "      <td>0.023959</td>\n",
       "      <td>0.081323</td>\n",
       "      <td>-0.006828</td>\n",
       "      <td>0.000850</td>\n",
       "    </tr>\n",
       "    <tr>\n",
       "      <th>75%</th>\n",
       "      <td>0.623937</td>\n",
       "      <td>0.692204</td>\n",
       "      <td>0.650384</td>\n",
       "      <td>0.688938</td>\n",
       "      <td>0.730284</td>\n",
       "      <td>0.639051</td>\n",
       "      <td>0.690289</td>\n",
       "    </tr>\n",
       "    <tr>\n",
       "      <th>max</th>\n",
       "      <td>4.678413</td>\n",
       "      <td>2.917241</td>\n",
       "      <td>3.247006</td>\n",
       "      <td>4.001007</td>\n",
       "      <td>3.819563</td>\n",
       "      <td>3.269873</td>\n",
       "      <td>2.905443</td>\n",
       "    </tr>\n",
       "  </tbody>\n",
       "</table>\n",
       "</div>"
      ],
      "text/plain": [
       "                 0            1            2            3            4  \\\n",
       "count  1000.000000  1000.000000  1000.000000  1000.000000  1000.000000   \n",
       "mean     -0.031535    -0.019797    -0.009452     0.023961     0.075583   \n",
       "std       0.988387     0.997779     1.012735     1.018310     0.990005   \n",
       "min      -3.032100    -3.634010    -3.780945    -3.344809    -3.508140   \n",
       "25%      -0.683211    -0.697959    -0.676132    -0.681857    -0.586835   \n",
       "50%      -0.019131    -0.018273    -0.003047     0.023959     0.081323   \n",
       "75%       0.623937     0.692204     0.650384     0.688938     0.730284   \n",
       "max       4.678413     2.917241     3.247006     4.001007     3.819563   \n",
       "\n",
       "                 5            6  \n",
       "count  1000.000000  1000.000000  \n",
       "mean      0.009913     0.024643  \n",
       "std       0.967625     1.009430  \n",
       "min      -2.536288    -2.890089  \n",
       "25%      -0.610543    -0.655051  \n",
       "50%      -0.006828     0.000850  \n",
       "75%       0.639051     0.690289  \n",
       "max       3.269873     2.905443  "
      ]
     },
     "execution_count": 32,
     "metadata": {},
     "output_type": "execute_result"
    }
   ],
   "source": [
    "data = pd.DataFrame(np.random.randn(1000,7))\n",
    "data.describe()"
   ]
  },
  {
   "cell_type": "code",
   "execution_count": 33,
   "metadata": {},
   "outputs": [
    {
     "data": {
      "text/html": [
       "<div>\n",
       "<style scoped>\n",
       "    .dataframe tbody tr th:only-of-type {\n",
       "        vertical-align: middle;\n",
       "    }\n",
       "\n",
       "    .dataframe tbody tr th {\n",
       "        vertical-align: top;\n",
       "    }\n",
       "\n",
       "    .dataframe thead th {\n",
       "        text-align: right;\n",
       "    }\n",
       "</style>\n",
       "<table border=\"1\" class=\"dataframe\">\n",
       "  <thead>\n",
       "    <tr style=\"text-align: right;\">\n",
       "      <th></th>\n",
       "      <th>0</th>\n",
       "      <th>1</th>\n",
       "      <th>2</th>\n",
       "      <th>3</th>\n",
       "      <th>4</th>\n",
       "      <th>5</th>\n",
       "      <th>6</th>\n",
       "    </tr>\n",
       "  </thead>\n",
       "  <tbody>\n",
       "    <tr>\n",
       "      <th>0</th>\n",
       "      <td>0.573889</td>\n",
       "      <td>0.983214</td>\n",
       "      <td>0.381537</td>\n",
       "      <td>0.991621</td>\n",
       "      <td>0.942102</td>\n",
       "      <td>-1.421735</td>\n",
       "      <td>-0.555658</td>\n",
       "    </tr>\n",
       "    <tr>\n",
       "      <th>1</th>\n",
       "      <td>0.720607</td>\n",
       "      <td>1.207138</td>\n",
       "      <td>0.568765</td>\n",
       "      <td>1.172546</td>\n",
       "      <td>-0.294025</td>\n",
       "      <td>-0.375523</td>\n",
       "      <td>-0.583912</td>\n",
       "    </tr>\n",
       "    <tr>\n",
       "      <th>2</th>\n",
       "      <td>-0.363110</td>\n",
       "      <td>0.496066</td>\n",
       "      <td>0.578565</td>\n",
       "      <td>-0.902002</td>\n",
       "      <td>0.336164</td>\n",
       "      <td>0.835852</td>\n",
       "      <td>-1.982204</td>\n",
       "    </tr>\n",
       "    <tr>\n",
       "      <th>3</th>\n",
       "      <td>-1.122552</td>\n",
       "      <td>-0.063458</td>\n",
       "      <td>-2.294386</td>\n",
       "      <td>-0.701909</td>\n",
       "      <td>2.209166</td>\n",
       "      <td>0.312567</td>\n",
       "      <td>0.865364</td>\n",
       "    </tr>\n",
       "    <tr>\n",
       "      <th>4</th>\n",
       "      <td>-1.280580</td>\n",
       "      <td>-1.019189</td>\n",
       "      <td>0.373381</td>\n",
       "      <td>0.749990</td>\n",
       "      <td>0.113949</td>\n",
       "      <td>-1.155285</td>\n",
       "      <td>-0.139047</td>\n",
       "    </tr>\n",
       "  </tbody>\n",
       "</table>\n",
       "</div>"
      ],
      "text/plain": [
       "          0         1         2         3         4         5         6\n",
       "0  0.573889  0.983214  0.381537  0.991621  0.942102 -1.421735 -0.555658\n",
       "1  0.720607  1.207138  0.568765  1.172546 -0.294025 -0.375523 -0.583912\n",
       "2 -0.363110  0.496066  0.578565 -0.902002  0.336164  0.835852 -1.982204\n",
       "3 -1.122552 -0.063458 -2.294386 -0.701909  2.209166  0.312567  0.865364\n",
       "4 -1.280580 -1.019189  0.373381  0.749990  0.113949 -1.155285 -0.139047"
      ]
     },
     "execution_count": 33,
     "metadata": {},
     "output_type": "execute_result"
    }
   ],
   "source": [
    "data.head()"
   ]
  },
  {
   "cell_type": "code",
   "execution_count": 34,
   "metadata": {},
   "outputs": [
    {
     "data": {
      "text/plain": [
       "0      0.381537\n",
       "1      0.568765\n",
       "2      0.578565\n",
       "3     -2.294386\n",
       "4      0.373381\n",
       "         ...   \n",
       "995    1.371744\n",
       "996   -0.895554\n",
       "997   -0.072628\n",
       "998    0.769871\n",
       "999    1.223932\n",
       "Name: 2, Length: 1000, dtype: float64"
      ]
     },
     "execution_count": 34,
     "metadata": {},
     "output_type": "execute_result"
    }
   ],
   "source": [
    "col = data[2]\n",
    "col"
   ]
  },
  {
   "cell_type": "code",
   "execution_count": 35,
   "metadata": {},
   "outputs": [
    {
     "data": {
      "text/plain": [
       "401   -3.780945\n",
       "752    3.010100\n",
       "905   -3.490724\n",
       "955    3.247006\n",
       "Name: 2, dtype: float64"
      ]
     },
     "execution_count": 35,
     "metadata": {},
     "output_type": "execute_result"
    }
   ],
   "source": [
    "col[np.abs(col)>3]"
   ]
  },
  {
   "cell_type": "code",
   "execution_count": 38,
   "metadata": {},
   "outputs": [
    {
     "data": {
      "text/html": [
       "<div>\n",
       "<style scoped>\n",
       "    .dataframe tbody tr th:only-of-type {\n",
       "        vertical-align: middle;\n",
       "    }\n",
       "\n",
       "    .dataframe tbody tr th {\n",
       "        vertical-align: top;\n",
       "    }\n",
       "\n",
       "    .dataframe thead th {\n",
       "        text-align: right;\n",
       "    }\n",
       "</style>\n",
       "<table border=\"1\" class=\"dataframe\">\n",
       "  <thead>\n",
       "    <tr style=\"text-align: right;\">\n",
       "      <th></th>\n",
       "      <th>0</th>\n",
       "      <th>1</th>\n",
       "      <th>2</th>\n",
       "      <th>3</th>\n",
       "      <th>4</th>\n",
       "      <th>5</th>\n",
       "      <th>6</th>\n",
       "    </tr>\n",
       "  </thead>\n",
       "  <tbody>\n",
       "    <tr>\n",
       "      <th>58</th>\n",
       "      <td>-1.300242</td>\n",
       "      <td>0.813957</td>\n",
       "      <td>-0.280482</td>\n",
       "      <td>-2.133180</td>\n",
       "      <td>3.819563</td>\n",
       "      <td>0.517857</td>\n",
       "      <td>-1.823093</td>\n",
       "    </tr>\n",
       "    <tr>\n",
       "      <th>59</th>\n",
       "      <td>0.476237</td>\n",
       "      <td>-0.032153</td>\n",
       "      <td>1.360485</td>\n",
       "      <td>-0.367167</td>\n",
       "      <td>-0.981897</td>\n",
       "      <td>3.269873</td>\n",
       "      <td>0.026641</td>\n",
       "    </tr>\n",
       "    <tr>\n",
       "      <th>61</th>\n",
       "      <td>-3.026466</td>\n",
       "      <td>0.759786</td>\n",
       "      <td>-0.202169</td>\n",
       "      <td>0.541964</td>\n",
       "      <td>0.831817</td>\n",
       "      <td>0.590962</td>\n",
       "      <td>-0.929066</td>\n",
       "    </tr>\n",
       "    <tr>\n",
       "      <th>266</th>\n",
       "      <td>4.678413</td>\n",
       "      <td>-0.073609</td>\n",
       "      <td>-0.143125</td>\n",
       "      <td>0.683036</td>\n",
       "      <td>1.048186</td>\n",
       "      <td>0.638133</td>\n",
       "      <td>0.610921</td>\n",
       "    </tr>\n",
       "    <tr>\n",
       "      <th>317</th>\n",
       "      <td>-1.115122</td>\n",
       "      <td>-1.015318</td>\n",
       "      <td>-1.022780</td>\n",
       "      <td>-3.344809</td>\n",
       "      <td>0.477796</td>\n",
       "      <td>-1.043050</td>\n",
       "      <td>-0.815656</td>\n",
       "    </tr>\n",
       "    <tr>\n",
       "      <th>401</th>\n",
       "      <td>-0.135885</td>\n",
       "      <td>-0.768186</td>\n",
       "      <td>-3.780945</td>\n",
       "      <td>-0.379935</td>\n",
       "      <td>0.769906</td>\n",
       "      <td>0.142843</td>\n",
       "      <td>-0.428254</td>\n",
       "    </tr>\n",
       "    <tr>\n",
       "      <th>548</th>\n",
       "      <td>-1.250140</td>\n",
       "      <td>-1.506301</td>\n",
       "      <td>-0.392548</td>\n",
       "      <td>3.389074</td>\n",
       "      <td>0.475476</td>\n",
       "      <td>-1.635492</td>\n",
       "      <td>-0.149040</td>\n",
       "    </tr>\n",
       "    <tr>\n",
       "      <th>593</th>\n",
       "      <td>-2.321227</td>\n",
       "      <td>0.029267</td>\n",
       "      <td>1.601639</td>\n",
       "      <td>4.001007</td>\n",
       "      <td>-1.524433</td>\n",
       "      <td>1.004025</td>\n",
       "      <td>-0.571713</td>\n",
       "    </tr>\n",
       "    <tr>\n",
       "      <th>717</th>\n",
       "      <td>-0.372405</td>\n",
       "      <td>0.546739</td>\n",
       "      <td>-1.422648</td>\n",
       "      <td>1.582601</td>\n",
       "      <td>3.210873</td>\n",
       "      <td>0.264721</td>\n",
       "      <td>0.792927</td>\n",
       "    </tr>\n",
       "    <tr>\n",
       "      <th>752</th>\n",
       "      <td>-0.051312</td>\n",
       "      <td>0.707953</td>\n",
       "      <td>3.010100</td>\n",
       "      <td>-0.063165</td>\n",
       "      <td>-0.068358</td>\n",
       "      <td>-0.003327</td>\n",
       "      <td>0.185698</td>\n",
       "    </tr>\n",
       "    <tr>\n",
       "      <th>842</th>\n",
       "      <td>-0.422224</td>\n",
       "      <td>-3.634010</td>\n",
       "      <td>-0.529036</td>\n",
       "      <td>0.559069</td>\n",
       "      <td>0.149436</td>\n",
       "      <td>0.641875</td>\n",
       "      <td>1.620439</td>\n",
       "    </tr>\n",
       "    <tr>\n",
       "      <th>905</th>\n",
       "      <td>-0.725202</td>\n",
       "      <td>-1.377084</td>\n",
       "      <td>-3.490724</td>\n",
       "      <td>1.125610</td>\n",
       "      <td>-0.249395</td>\n",
       "      <td>-0.311680</td>\n",
       "      <td>1.759309</td>\n",
       "    </tr>\n",
       "    <tr>\n",
       "      <th>919</th>\n",
       "      <td>1.981333</td>\n",
       "      <td>0.487334</td>\n",
       "      <td>0.834038</td>\n",
       "      <td>-2.062162</td>\n",
       "      <td>3.142039</td>\n",
       "      <td>-0.014614</td>\n",
       "      <td>-0.264365</td>\n",
       "    </tr>\n",
       "    <tr>\n",
       "      <th>948</th>\n",
       "      <td>-3.032100</td>\n",
       "      <td>0.114750</td>\n",
       "      <td>1.168369</td>\n",
       "      <td>-0.335096</td>\n",
       "      <td>-0.236227</td>\n",
       "      <td>1.408045</td>\n",
       "      <td>-0.914320</td>\n",
       "    </tr>\n",
       "    <tr>\n",
       "      <th>955</th>\n",
       "      <td>0.322483</td>\n",
       "      <td>0.591258</td>\n",
       "      <td>3.247006</td>\n",
       "      <td>-0.208391</td>\n",
       "      <td>0.259370</td>\n",
       "      <td>0.371939</td>\n",
       "      <td>0.923341</td>\n",
       "    </tr>\n",
       "    <tr>\n",
       "      <th>997</th>\n",
       "      <td>0.875297</td>\n",
       "      <td>-0.285745</td>\n",
       "      <td>-0.072628</td>\n",
       "      <td>1.016512</td>\n",
       "      <td>-3.508140</td>\n",
       "      <td>-0.329993</td>\n",
       "      <td>0.472298</td>\n",
       "    </tr>\n",
       "  </tbody>\n",
       "</table>\n",
       "</div>"
      ],
      "text/plain": [
       "            0         1         2         3         4         5         6\n",
       "58  -1.300242  0.813957 -0.280482 -2.133180  3.819563  0.517857 -1.823093\n",
       "59   0.476237 -0.032153  1.360485 -0.367167 -0.981897  3.269873  0.026641\n",
       "61  -3.026466  0.759786 -0.202169  0.541964  0.831817  0.590962 -0.929066\n",
       "266  4.678413 -0.073609 -0.143125  0.683036  1.048186  0.638133  0.610921\n",
       "317 -1.115122 -1.015318 -1.022780 -3.344809  0.477796 -1.043050 -0.815656\n",
       "401 -0.135885 -0.768186 -3.780945 -0.379935  0.769906  0.142843 -0.428254\n",
       "548 -1.250140 -1.506301 -0.392548  3.389074  0.475476 -1.635492 -0.149040\n",
       "593 -2.321227  0.029267  1.601639  4.001007 -1.524433  1.004025 -0.571713\n",
       "717 -0.372405  0.546739 -1.422648  1.582601  3.210873  0.264721  0.792927\n",
       "752 -0.051312  0.707953  3.010100 -0.063165 -0.068358 -0.003327  0.185698\n",
       "842 -0.422224 -3.634010 -0.529036  0.559069  0.149436  0.641875  1.620439\n",
       "905 -0.725202 -1.377084 -3.490724  1.125610 -0.249395 -0.311680  1.759309\n",
       "919  1.981333  0.487334  0.834038 -2.062162  3.142039 -0.014614 -0.264365\n",
       "948 -3.032100  0.114750  1.168369 -0.335096 -0.236227  1.408045 -0.914320\n",
       "955  0.322483  0.591258  3.247006 -0.208391  0.259370  0.371939  0.923341\n",
       "997  0.875297 -0.285745 -0.072628  1.016512 -3.508140 -0.329993  0.472298"
      ]
     },
     "execution_count": 38,
     "metadata": {},
     "output_type": "execute_result"
    }
   ],
   "source": [
    "data[(np.abs(data)>3).any(1)]"
   ]
  },
  {
   "cell_type": "code",
   "execution_count": 43,
   "metadata": {},
   "outputs": [
    {
     "data": {
      "text/html": [
       "<div>\n",
       "<style scoped>\n",
       "    .dataframe tbody tr th:only-of-type {\n",
       "        vertical-align: middle;\n",
       "    }\n",
       "\n",
       "    .dataframe tbody tr th {\n",
       "        vertical-align: top;\n",
       "    }\n",
       "\n",
       "    .dataframe thead th {\n",
       "        text-align: right;\n",
       "    }\n",
       "</style>\n",
       "<table border=\"1\" class=\"dataframe\">\n",
       "  <thead>\n",
       "    <tr style=\"text-align: right;\">\n",
       "      <th></th>\n",
       "      <th>0</th>\n",
       "      <th>1</th>\n",
       "      <th>2</th>\n",
       "      <th>3</th>\n",
       "      <th>4</th>\n",
       "      <th>5</th>\n",
       "      <th>6</th>\n",
       "    </tr>\n",
       "  </thead>\n",
       "  <tbody>\n",
       "    <tr>\n",
       "      <th>58</th>\n",
       "      <td>-1.300242</td>\n",
       "      <td>0.813957</td>\n",
       "      <td>-0.280482</td>\n",
       "      <td>-2.133180</td>\n",
       "      <td>3.819563</td>\n",
       "      <td>0.517857</td>\n",
       "      <td>-1.823093</td>\n",
       "    </tr>\n",
       "    <tr>\n",
       "      <th>59</th>\n",
       "      <td>0.476237</td>\n",
       "      <td>-0.032153</td>\n",
       "      <td>1.360485</td>\n",
       "      <td>-0.367167</td>\n",
       "      <td>-0.981897</td>\n",
       "      <td>3.269873</td>\n",
       "      <td>0.026641</td>\n",
       "    </tr>\n",
       "    <tr>\n",
       "      <th>61</th>\n",
       "      <td>-3.026466</td>\n",
       "      <td>0.759786</td>\n",
       "      <td>-0.202169</td>\n",
       "      <td>0.541964</td>\n",
       "      <td>0.831817</td>\n",
       "      <td>0.590962</td>\n",
       "      <td>-0.929066</td>\n",
       "    </tr>\n",
       "    <tr>\n",
       "      <th>266</th>\n",
       "      <td>4.678413</td>\n",
       "      <td>-0.073609</td>\n",
       "      <td>-0.143125</td>\n",
       "      <td>0.683036</td>\n",
       "      <td>1.048186</td>\n",
       "      <td>0.638133</td>\n",
       "      <td>0.610921</td>\n",
       "    </tr>\n",
       "    <tr>\n",
       "      <th>317</th>\n",
       "      <td>-1.115122</td>\n",
       "      <td>-1.015318</td>\n",
       "      <td>-1.022780</td>\n",
       "      <td>-3.344809</td>\n",
       "      <td>0.477796</td>\n",
       "      <td>-1.043050</td>\n",
       "      <td>-0.815656</td>\n",
       "    </tr>\n",
       "    <tr>\n",
       "      <th>401</th>\n",
       "      <td>-0.135885</td>\n",
       "      <td>-0.768186</td>\n",
       "      <td>-3.780945</td>\n",
       "      <td>-0.379935</td>\n",
       "      <td>0.769906</td>\n",
       "      <td>0.142843</td>\n",
       "      <td>-0.428254</td>\n",
       "    </tr>\n",
       "    <tr>\n",
       "      <th>548</th>\n",
       "      <td>-1.250140</td>\n",
       "      <td>-1.506301</td>\n",
       "      <td>-0.392548</td>\n",
       "      <td>3.389074</td>\n",
       "      <td>0.475476</td>\n",
       "      <td>-1.635492</td>\n",
       "      <td>-0.149040</td>\n",
       "    </tr>\n",
       "    <tr>\n",
       "      <th>593</th>\n",
       "      <td>-2.321227</td>\n",
       "      <td>0.029267</td>\n",
       "      <td>1.601639</td>\n",
       "      <td>4.001007</td>\n",
       "      <td>-1.524433</td>\n",
       "      <td>1.004025</td>\n",
       "      <td>-0.571713</td>\n",
       "    </tr>\n",
       "    <tr>\n",
       "      <th>717</th>\n",
       "      <td>-0.372405</td>\n",
       "      <td>0.546739</td>\n",
       "      <td>-1.422648</td>\n",
       "      <td>1.582601</td>\n",
       "      <td>3.210873</td>\n",
       "      <td>0.264721</td>\n",
       "      <td>0.792927</td>\n",
       "    </tr>\n",
       "    <tr>\n",
       "      <th>752</th>\n",
       "      <td>-0.051312</td>\n",
       "      <td>0.707953</td>\n",
       "      <td>3.010100</td>\n",
       "      <td>-0.063165</td>\n",
       "      <td>-0.068358</td>\n",
       "      <td>-0.003327</td>\n",
       "      <td>0.185698</td>\n",
       "    </tr>\n",
       "    <tr>\n",
       "      <th>842</th>\n",
       "      <td>-0.422224</td>\n",
       "      <td>-3.634010</td>\n",
       "      <td>-0.529036</td>\n",
       "      <td>0.559069</td>\n",
       "      <td>0.149436</td>\n",
       "      <td>0.641875</td>\n",
       "      <td>1.620439</td>\n",
       "    </tr>\n",
       "    <tr>\n",
       "      <th>905</th>\n",
       "      <td>-0.725202</td>\n",
       "      <td>-1.377084</td>\n",
       "      <td>-3.490724</td>\n",
       "      <td>1.125610</td>\n",
       "      <td>-0.249395</td>\n",
       "      <td>-0.311680</td>\n",
       "      <td>1.759309</td>\n",
       "    </tr>\n",
       "    <tr>\n",
       "      <th>919</th>\n",
       "      <td>1.981333</td>\n",
       "      <td>0.487334</td>\n",
       "      <td>0.834038</td>\n",
       "      <td>-2.062162</td>\n",
       "      <td>3.142039</td>\n",
       "      <td>-0.014614</td>\n",
       "      <td>-0.264365</td>\n",
       "    </tr>\n",
       "    <tr>\n",
       "      <th>948</th>\n",
       "      <td>-3.032100</td>\n",
       "      <td>0.114750</td>\n",
       "      <td>1.168369</td>\n",
       "      <td>-0.335096</td>\n",
       "      <td>-0.236227</td>\n",
       "      <td>1.408045</td>\n",
       "      <td>-0.914320</td>\n",
       "    </tr>\n",
       "    <tr>\n",
       "      <th>955</th>\n",
       "      <td>0.322483</td>\n",
       "      <td>0.591258</td>\n",
       "      <td>3.247006</td>\n",
       "      <td>-0.208391</td>\n",
       "      <td>0.259370</td>\n",
       "      <td>0.371939</td>\n",
       "      <td>0.923341</td>\n",
       "    </tr>\n",
       "    <tr>\n",
       "      <th>997</th>\n",
       "      <td>0.875297</td>\n",
       "      <td>-0.285745</td>\n",
       "      <td>-0.072628</td>\n",
       "      <td>1.016512</td>\n",
       "      <td>-3.508140</td>\n",
       "      <td>-0.329993</td>\n",
       "      <td>0.472298</td>\n",
       "    </tr>\n",
       "  </tbody>\n",
       "</table>\n",
       "</div>"
      ],
      "text/plain": [
       "            0         1         2         3         4         5         6\n",
       "58  -1.300242  0.813957 -0.280482 -2.133180  3.819563  0.517857 -1.823093\n",
       "59   0.476237 -0.032153  1.360485 -0.367167 -0.981897  3.269873  0.026641\n",
       "61  -3.026466  0.759786 -0.202169  0.541964  0.831817  0.590962 -0.929066\n",
       "266  4.678413 -0.073609 -0.143125  0.683036  1.048186  0.638133  0.610921\n",
       "317 -1.115122 -1.015318 -1.022780 -3.344809  0.477796 -1.043050 -0.815656\n",
       "401 -0.135885 -0.768186 -3.780945 -0.379935  0.769906  0.142843 -0.428254\n",
       "548 -1.250140 -1.506301 -0.392548  3.389074  0.475476 -1.635492 -0.149040\n",
       "593 -2.321227  0.029267  1.601639  4.001007 -1.524433  1.004025 -0.571713\n",
       "717 -0.372405  0.546739 -1.422648  1.582601  3.210873  0.264721  0.792927\n",
       "752 -0.051312  0.707953  3.010100 -0.063165 -0.068358 -0.003327  0.185698\n",
       "842 -0.422224 -3.634010 -0.529036  0.559069  0.149436  0.641875  1.620439\n",
       "905 -0.725202 -1.377084 -3.490724  1.125610 -0.249395 -0.311680  1.759309\n",
       "919  1.981333  0.487334  0.834038 -2.062162  3.142039 -0.014614 -0.264365\n",
       "948 -3.032100  0.114750  1.168369 -0.335096 -0.236227  1.408045 -0.914320\n",
       "955  0.322483  0.591258  3.247006 -0.208391  0.259370  0.371939  0.923341\n",
       "997  0.875297 -0.285745 -0.072628  1.016512 -3.508140 -0.329993  0.472298"
      ]
     },
     "execution_count": 43,
     "metadata": {},
     "output_type": "execute_result"
    }
   ],
   "source": [
    "data[(np.abs(data)>3).any(1)]"
   ]
  },
  {
   "cell_type": "code",
   "execution_count": 44,
   "metadata": {},
   "outputs": [],
   "source": [
    "data[np.abs(data) > 3] = np.sign(data) * 3"
   ]
  },
  {
   "cell_type": "code",
   "execution_count": 45,
   "metadata": {},
   "outputs": [
    {
     "data": {
      "text/html": [
       "<div>\n",
       "<style scoped>\n",
       "    .dataframe tbody tr th:only-of-type {\n",
       "        vertical-align: middle;\n",
       "    }\n",
       "\n",
       "    .dataframe tbody tr th {\n",
       "        vertical-align: top;\n",
       "    }\n",
       "\n",
       "    .dataframe thead th {\n",
       "        text-align: right;\n",
       "    }\n",
       "</style>\n",
       "<table border=\"1\" class=\"dataframe\">\n",
       "  <thead>\n",
       "    <tr style=\"text-align: right;\">\n",
       "      <th></th>\n",
       "      <th>0</th>\n",
       "      <th>1</th>\n",
       "      <th>2</th>\n",
       "      <th>3</th>\n",
       "      <th>4</th>\n",
       "      <th>5</th>\n",
       "      <th>6</th>\n",
       "    </tr>\n",
       "  </thead>\n",
       "  <tbody>\n",
       "    <tr>\n",
       "      <th>0</th>\n",
       "      <td>0.573889</td>\n",
       "      <td>0.983214</td>\n",
       "      <td>0.381537</td>\n",
       "      <td>0.991621</td>\n",
       "      <td>0.942102</td>\n",
       "      <td>-1.421735</td>\n",
       "      <td>-0.555658</td>\n",
       "    </tr>\n",
       "    <tr>\n",
       "      <th>1</th>\n",
       "      <td>0.720607</td>\n",
       "      <td>1.207138</td>\n",
       "      <td>0.568765</td>\n",
       "      <td>1.172546</td>\n",
       "      <td>-0.294025</td>\n",
       "      <td>-0.375523</td>\n",
       "      <td>-0.583912</td>\n",
       "    </tr>\n",
       "    <tr>\n",
       "      <th>2</th>\n",
       "      <td>-0.363110</td>\n",
       "      <td>0.496066</td>\n",
       "      <td>0.578565</td>\n",
       "      <td>-0.902002</td>\n",
       "      <td>0.336164</td>\n",
       "      <td>0.835852</td>\n",
       "      <td>-1.982204</td>\n",
       "    </tr>\n",
       "    <tr>\n",
       "      <th>3</th>\n",
       "      <td>-1.122552</td>\n",
       "      <td>-0.063458</td>\n",
       "      <td>-2.294386</td>\n",
       "      <td>-0.701909</td>\n",
       "      <td>2.209166</td>\n",
       "      <td>0.312567</td>\n",
       "      <td>0.865364</td>\n",
       "    </tr>\n",
       "    <tr>\n",
       "      <th>4</th>\n",
       "      <td>-1.280580</td>\n",
       "      <td>-1.019189</td>\n",
       "      <td>0.373381</td>\n",
       "      <td>0.749990</td>\n",
       "      <td>0.113949</td>\n",
       "      <td>-1.155285</td>\n",
       "      <td>-0.139047</td>\n",
       "    </tr>\n",
       "    <tr>\n",
       "      <th>...</th>\n",
       "      <td>...</td>\n",
       "      <td>...</td>\n",
       "      <td>...</td>\n",
       "      <td>...</td>\n",
       "      <td>...</td>\n",
       "      <td>...</td>\n",
       "      <td>...</td>\n",
       "    </tr>\n",
       "    <tr>\n",
       "      <th>995</th>\n",
       "      <td>-1.289052</td>\n",
       "      <td>0.890543</td>\n",
       "      <td>1.371744</td>\n",
       "      <td>0.116542</td>\n",
       "      <td>0.559412</td>\n",
       "      <td>-0.398512</td>\n",
       "      <td>0.061693</td>\n",
       "    </tr>\n",
       "    <tr>\n",
       "      <th>996</th>\n",
       "      <td>-2.162296</td>\n",
       "      <td>-0.757617</td>\n",
       "      <td>-0.895554</td>\n",
       "      <td>0.117218</td>\n",
       "      <td>-0.279755</td>\n",
       "      <td>-0.891445</td>\n",
       "      <td>-0.241723</td>\n",
       "    </tr>\n",
       "    <tr>\n",
       "      <th>997</th>\n",
       "      <td>0.875297</td>\n",
       "      <td>-0.285745</td>\n",
       "      <td>-0.072628</td>\n",
       "      <td>1.016512</td>\n",
       "      <td>-3.000000</td>\n",
       "      <td>-0.329993</td>\n",
       "      <td>0.472298</td>\n",
       "    </tr>\n",
       "    <tr>\n",
       "      <th>998</th>\n",
       "      <td>-0.431485</td>\n",
       "      <td>-1.582240</td>\n",
       "      <td>0.769871</td>\n",
       "      <td>-0.754136</td>\n",
       "      <td>1.479410</td>\n",
       "      <td>-2.114966</td>\n",
       "      <td>-0.803198</td>\n",
       "    </tr>\n",
       "    <tr>\n",
       "      <th>999</th>\n",
       "      <td>-0.603897</td>\n",
       "      <td>0.932157</td>\n",
       "      <td>1.223932</td>\n",
       "      <td>-0.591998</td>\n",
       "      <td>-1.530645</td>\n",
       "      <td>0.878391</td>\n",
       "      <td>0.467938</td>\n",
       "    </tr>\n",
       "  </tbody>\n",
       "</table>\n",
       "<p>1000 rows × 7 columns</p>\n",
       "</div>"
      ],
      "text/plain": [
       "            0         1         2         3         4         5         6\n",
       "0    0.573889  0.983214  0.381537  0.991621  0.942102 -1.421735 -0.555658\n",
       "1    0.720607  1.207138  0.568765  1.172546 -0.294025 -0.375523 -0.583912\n",
       "2   -0.363110  0.496066  0.578565 -0.902002  0.336164  0.835852 -1.982204\n",
       "3   -1.122552 -0.063458 -2.294386 -0.701909  2.209166  0.312567  0.865364\n",
       "4   -1.280580 -1.019189  0.373381  0.749990  0.113949 -1.155285 -0.139047\n",
       "..        ...       ...       ...       ...       ...       ...       ...\n",
       "995 -1.289052  0.890543  1.371744  0.116542  0.559412 -0.398512  0.061693\n",
       "996 -2.162296 -0.757617 -0.895554  0.117218 -0.279755 -0.891445 -0.241723\n",
       "997  0.875297 -0.285745 -0.072628  1.016512 -3.000000 -0.329993  0.472298\n",
       "998 -0.431485 -1.582240  0.769871 -0.754136  1.479410 -2.114966 -0.803198\n",
       "999 -0.603897  0.932157  1.223932 -0.591998 -1.530645  0.878391  0.467938\n",
       "\n",
       "[1000 rows x 7 columns]"
      ]
     },
     "execution_count": 45,
     "metadata": {},
     "output_type": "execute_result"
    }
   ],
   "source": [
    "data"
   ]
  },
  {
   "cell_type": "code",
   "execution_count": 47,
   "metadata": {},
   "outputs": [
    {
     "data": {
      "text/html": [
       "<div>\n",
       "<style scoped>\n",
       "    .dataframe tbody tr th:only-of-type {\n",
       "        vertical-align: middle;\n",
       "    }\n",
       "\n",
       "    .dataframe tbody tr th {\n",
       "        vertical-align: top;\n",
       "    }\n",
       "\n",
       "    .dataframe thead th {\n",
       "        text-align: right;\n",
       "    }\n",
       "</style>\n",
       "<table border=\"1\" class=\"dataframe\">\n",
       "  <thead>\n",
       "    <tr style=\"text-align: right;\">\n",
       "      <th></th>\n",
       "      <th>0</th>\n",
       "      <th>1</th>\n",
       "      <th>2</th>\n",
       "      <th>3</th>\n",
       "      <th>4</th>\n",
       "      <th>5</th>\n",
       "      <th>6</th>\n",
       "    </tr>\n",
       "  </thead>\n",
       "  <tbody>\n",
       "    <tr>\n",
       "      <th>58</th>\n",
       "      <td>-1.300242</td>\n",
       "      <td>0.813957</td>\n",
       "      <td>-0.280482</td>\n",
       "      <td>-2.133180</td>\n",
       "      <td>3.000000</td>\n",
       "      <td>0.517857</td>\n",
       "      <td>-1.823093</td>\n",
       "    </tr>\n",
       "    <tr>\n",
       "      <th>59</th>\n",
       "      <td>0.476237</td>\n",
       "      <td>-0.032153</td>\n",
       "      <td>1.360485</td>\n",
       "      <td>-0.367167</td>\n",
       "      <td>-0.981897</td>\n",
       "      <td>3.000000</td>\n",
       "      <td>0.026641</td>\n",
       "    </tr>\n",
       "    <tr>\n",
       "      <th>61</th>\n",
       "      <td>-3.000000</td>\n",
       "      <td>0.759786</td>\n",
       "      <td>-0.202169</td>\n",
       "      <td>0.541964</td>\n",
       "      <td>0.831817</td>\n",
       "      <td>0.590962</td>\n",
       "      <td>-0.929066</td>\n",
       "    </tr>\n",
       "    <tr>\n",
       "      <th>266</th>\n",
       "      <td>3.000000</td>\n",
       "      <td>-0.073609</td>\n",
       "      <td>-0.143125</td>\n",
       "      <td>0.683036</td>\n",
       "      <td>1.048186</td>\n",
       "      <td>0.638133</td>\n",
       "      <td>0.610921</td>\n",
       "    </tr>\n",
       "    <tr>\n",
       "      <th>317</th>\n",
       "      <td>-1.115122</td>\n",
       "      <td>-1.015318</td>\n",
       "      <td>-1.022780</td>\n",
       "      <td>-3.000000</td>\n",
       "      <td>0.477796</td>\n",
       "      <td>-1.043050</td>\n",
       "      <td>-0.815656</td>\n",
       "    </tr>\n",
       "    <tr>\n",
       "      <th>401</th>\n",
       "      <td>-0.135885</td>\n",
       "      <td>-0.768186</td>\n",
       "      <td>-3.000000</td>\n",
       "      <td>-0.379935</td>\n",
       "      <td>0.769906</td>\n",
       "      <td>0.142843</td>\n",
       "      <td>-0.428254</td>\n",
       "    </tr>\n",
       "    <tr>\n",
       "      <th>548</th>\n",
       "      <td>-1.250140</td>\n",
       "      <td>-1.506301</td>\n",
       "      <td>-0.392548</td>\n",
       "      <td>3.000000</td>\n",
       "      <td>0.475476</td>\n",
       "      <td>-1.635492</td>\n",
       "      <td>-0.149040</td>\n",
       "    </tr>\n",
       "    <tr>\n",
       "      <th>593</th>\n",
       "      <td>-2.321227</td>\n",
       "      <td>0.029267</td>\n",
       "      <td>1.601639</td>\n",
       "      <td>3.000000</td>\n",
       "      <td>-1.524433</td>\n",
       "      <td>1.004025</td>\n",
       "      <td>-0.571713</td>\n",
       "    </tr>\n",
       "    <tr>\n",
       "      <th>717</th>\n",
       "      <td>-0.372405</td>\n",
       "      <td>0.546739</td>\n",
       "      <td>-1.422648</td>\n",
       "      <td>1.582601</td>\n",
       "      <td>3.000000</td>\n",
       "      <td>0.264721</td>\n",
       "      <td>0.792927</td>\n",
       "    </tr>\n",
       "    <tr>\n",
       "      <th>752</th>\n",
       "      <td>-0.051312</td>\n",
       "      <td>0.707953</td>\n",
       "      <td>3.000000</td>\n",
       "      <td>-0.063165</td>\n",
       "      <td>-0.068358</td>\n",
       "      <td>-0.003327</td>\n",
       "      <td>0.185698</td>\n",
       "    </tr>\n",
       "    <tr>\n",
       "      <th>842</th>\n",
       "      <td>-0.422224</td>\n",
       "      <td>-3.000000</td>\n",
       "      <td>-0.529036</td>\n",
       "      <td>0.559069</td>\n",
       "      <td>0.149436</td>\n",
       "      <td>0.641875</td>\n",
       "      <td>1.620439</td>\n",
       "    </tr>\n",
       "    <tr>\n",
       "      <th>905</th>\n",
       "      <td>-0.725202</td>\n",
       "      <td>-1.377084</td>\n",
       "      <td>-3.000000</td>\n",
       "      <td>1.125610</td>\n",
       "      <td>-0.249395</td>\n",
       "      <td>-0.311680</td>\n",
       "      <td>1.759309</td>\n",
       "    </tr>\n",
       "    <tr>\n",
       "      <th>919</th>\n",
       "      <td>1.981333</td>\n",
       "      <td>0.487334</td>\n",
       "      <td>0.834038</td>\n",
       "      <td>-2.062162</td>\n",
       "      <td>3.000000</td>\n",
       "      <td>-0.014614</td>\n",
       "      <td>-0.264365</td>\n",
       "    </tr>\n",
       "    <tr>\n",
       "      <th>948</th>\n",
       "      <td>-3.000000</td>\n",
       "      <td>0.114750</td>\n",
       "      <td>1.168369</td>\n",
       "      <td>-0.335096</td>\n",
       "      <td>-0.236227</td>\n",
       "      <td>1.408045</td>\n",
       "      <td>-0.914320</td>\n",
       "    </tr>\n",
       "    <tr>\n",
       "      <th>955</th>\n",
       "      <td>0.322483</td>\n",
       "      <td>0.591258</td>\n",
       "      <td>3.000000</td>\n",
       "      <td>-0.208391</td>\n",
       "      <td>0.259370</td>\n",
       "      <td>0.371939</td>\n",
       "      <td>0.923341</td>\n",
       "    </tr>\n",
       "    <tr>\n",
       "      <th>997</th>\n",
       "      <td>0.875297</td>\n",
       "      <td>-0.285745</td>\n",
       "      <td>-0.072628</td>\n",
       "      <td>1.016512</td>\n",
       "      <td>-3.000000</td>\n",
       "      <td>-0.329993</td>\n",
       "      <td>0.472298</td>\n",
       "    </tr>\n",
       "  </tbody>\n",
       "</table>\n",
       "</div>"
      ],
      "text/plain": [
       "            0         1         2         3         4         5         6\n",
       "58  -1.300242  0.813957 -0.280482 -2.133180  3.000000  0.517857 -1.823093\n",
       "59   0.476237 -0.032153  1.360485 -0.367167 -0.981897  3.000000  0.026641\n",
       "61  -3.000000  0.759786 -0.202169  0.541964  0.831817  0.590962 -0.929066\n",
       "266  3.000000 -0.073609 -0.143125  0.683036  1.048186  0.638133  0.610921\n",
       "317 -1.115122 -1.015318 -1.022780 -3.000000  0.477796 -1.043050 -0.815656\n",
       "401 -0.135885 -0.768186 -3.000000 -0.379935  0.769906  0.142843 -0.428254\n",
       "548 -1.250140 -1.506301 -0.392548  3.000000  0.475476 -1.635492 -0.149040\n",
       "593 -2.321227  0.029267  1.601639  3.000000 -1.524433  1.004025 -0.571713\n",
       "717 -0.372405  0.546739 -1.422648  1.582601  3.000000  0.264721  0.792927\n",
       "752 -0.051312  0.707953  3.000000 -0.063165 -0.068358 -0.003327  0.185698\n",
       "842 -0.422224 -3.000000 -0.529036  0.559069  0.149436  0.641875  1.620439\n",
       "905 -0.725202 -1.377084 -3.000000  1.125610 -0.249395 -0.311680  1.759309\n",
       "919  1.981333  0.487334  0.834038 -2.062162  3.000000 -0.014614 -0.264365\n",
       "948 -3.000000  0.114750  1.168369 -0.335096 -0.236227  1.408045 -0.914320\n",
       "955  0.322483  0.591258  3.000000 -0.208391  0.259370  0.371939  0.923341\n",
       "997  0.875297 -0.285745 -0.072628  1.016512 -3.000000 -0.329993  0.472298"
      ]
     },
     "execution_count": 47,
     "metadata": {},
     "output_type": "execute_result"
    }
   ],
   "source": [
    "data[(np.abs(data)==3).any(1)]"
   ]
  },
  {
   "cell_type": "code",
   "execution_count": 48,
   "metadata": {},
   "outputs": [
    {
     "data": {
      "text/html": [
       "<div>\n",
       "<style scoped>\n",
       "    .dataframe tbody tr th:only-of-type {\n",
       "        vertical-align: middle;\n",
       "    }\n",
       "\n",
       "    .dataframe tbody tr th {\n",
       "        vertical-align: top;\n",
       "    }\n",
       "\n",
       "    .dataframe thead th {\n",
       "        text-align: right;\n",
       "    }\n",
       "</style>\n",
       "<table border=\"1\" class=\"dataframe\">\n",
       "  <thead>\n",
       "    <tr style=\"text-align: right;\">\n",
       "      <th></th>\n",
       "      <th>0</th>\n",
       "      <th>1</th>\n",
       "      <th>2</th>\n",
       "      <th>3</th>\n",
       "      <th>4</th>\n",
       "      <th>5</th>\n",
       "      <th>6</th>\n",
       "    </tr>\n",
       "  </thead>\n",
       "  <tbody>\n",
       "    <tr>\n",
       "      <th>0</th>\n",
       "      <td>1.0</td>\n",
       "      <td>1.0</td>\n",
       "      <td>1.0</td>\n",
       "      <td>1.0</td>\n",
       "      <td>1.0</td>\n",
       "      <td>-1.0</td>\n",
       "      <td>-1.0</td>\n",
       "    </tr>\n",
       "    <tr>\n",
       "      <th>1</th>\n",
       "      <td>1.0</td>\n",
       "      <td>1.0</td>\n",
       "      <td>1.0</td>\n",
       "      <td>1.0</td>\n",
       "      <td>-1.0</td>\n",
       "      <td>-1.0</td>\n",
       "      <td>-1.0</td>\n",
       "    </tr>\n",
       "    <tr>\n",
       "      <th>2</th>\n",
       "      <td>-1.0</td>\n",
       "      <td>1.0</td>\n",
       "      <td>1.0</td>\n",
       "      <td>-1.0</td>\n",
       "      <td>1.0</td>\n",
       "      <td>1.0</td>\n",
       "      <td>-1.0</td>\n",
       "    </tr>\n",
       "    <tr>\n",
       "      <th>3</th>\n",
       "      <td>-1.0</td>\n",
       "      <td>-1.0</td>\n",
       "      <td>-1.0</td>\n",
       "      <td>-1.0</td>\n",
       "      <td>1.0</td>\n",
       "      <td>1.0</td>\n",
       "      <td>1.0</td>\n",
       "    </tr>\n",
       "    <tr>\n",
       "      <th>4</th>\n",
       "      <td>-1.0</td>\n",
       "      <td>-1.0</td>\n",
       "      <td>1.0</td>\n",
       "      <td>1.0</td>\n",
       "      <td>1.0</td>\n",
       "      <td>-1.0</td>\n",
       "      <td>-1.0</td>\n",
       "    </tr>\n",
       "  </tbody>\n",
       "</table>\n",
       "</div>"
      ],
      "text/plain": [
       "     0    1    2    3    4    5    6\n",
       "0  1.0  1.0  1.0  1.0  1.0 -1.0 -1.0\n",
       "1  1.0  1.0  1.0  1.0 -1.0 -1.0 -1.0\n",
       "2 -1.0  1.0  1.0 -1.0  1.0  1.0 -1.0\n",
       "3 -1.0 -1.0 -1.0 -1.0  1.0  1.0  1.0\n",
       "4 -1.0 -1.0  1.0  1.0  1.0 -1.0 -1.0"
      ]
     },
     "execution_count": 48,
     "metadata": {},
     "output_type": "execute_result"
    }
   ],
   "source": [
    "np.sign(data).head()"
   ]
  },
  {
   "cell_type": "code",
   "execution_count": 50,
   "metadata": {},
   "outputs": [],
   "source": [
    "pd.options.display.max_rows = 20\n",
    "np.random.seed(1223)\n",
    "np.set_printoptions(precision=4, suppress =True)"
   ]
  },
  {
   "cell_type": "code",
   "execution_count": 54,
   "metadata": {},
   "outputs": [],
   "source": [
    "data = pd.Series(np.random.randn(9), index = [['a','a','a','b','b', 'c','c','c','c'], [1,2,3,1,3,1,1,3,3]])"
   ]
  },
  {
   "cell_type": "code",
   "execution_count": 55,
   "metadata": {},
   "outputs": [
    {
     "data": {
      "text/plain": [
       "a  1    0.809335\n",
       "   2    0.955799\n",
       "   3   -0.421880\n",
       "b  1    0.346936\n",
       "   3   -0.200127\n",
       "c  1   -0.004921\n",
       "   1    0.209049\n",
       "   3   -0.171220\n",
       "   3   -1.710489\n",
       "dtype: float64"
      ]
     },
     "execution_count": 55,
     "metadata": {},
     "output_type": "execute_result"
    }
   ],
   "source": [
    "data"
   ]
  },
  {
   "cell_type": "code",
   "execution_count": 56,
   "metadata": {},
   "outputs": [
    {
     "data": {
      "text/plain": [
       "MultiIndex([('a', 1),\n",
       "            ('a', 2),\n",
       "            ('a', 3),\n",
       "            ('b', 1),\n",
       "            ('b', 3),\n",
       "            ('c', 1),\n",
       "            ('c', 1),\n",
       "            ('c', 3),\n",
       "            ('c', 3)],\n",
       "           )"
      ]
     },
     "execution_count": 56,
     "metadata": {},
     "output_type": "execute_result"
    }
   ],
   "source": [
    "data.index\n"
   ]
  },
  {
   "cell_type": "code",
   "execution_count": 57,
   "metadata": {},
   "outputs": [
    {
     "data": {
      "text/plain": [
       "1    0.346936\n",
       "3   -0.200127\n",
       "dtype: float64"
      ]
     },
     "execution_count": 57,
     "metadata": {},
     "output_type": "execute_result"
    }
   ],
   "source": [
    "data['b']"
   ]
  },
  {
   "cell_type": "code",
   "execution_count": 58,
   "metadata": {},
   "outputs": [
    {
     "data": {
      "text/plain": [
       "b  1    0.346936\n",
       "   3   -0.200127\n",
       "c  1   -0.004921\n",
       "   1    0.209049\n",
       "   3   -0.171220\n",
       "   3   -1.710489\n",
       "dtype: float64"
      ]
     },
     "execution_count": 58,
     "metadata": {},
     "output_type": "execute_result"
    }
   ],
   "source": [
    "data[['b','c']]"
   ]
  },
  {
   "cell_type": "code",
   "execution_count": 60,
   "metadata": {},
   "outputs": [
    {
     "data": {
      "text/plain": [
       "a  1    0.809335\n",
       "   2    0.955799\n",
       "   3   -0.421880\n",
       "b  1    0.346936\n",
       "   3   -0.200127\n",
       "dtype: float64"
      ]
     },
     "execution_count": 60,
     "metadata": {},
     "output_type": "execute_result"
    }
   ],
   "source": [
    "data['a':'b']"
   ]
  },
  {
   "cell_type": "code",
   "execution_count": 62,
   "metadata": {},
   "outputs": [
    {
     "data": {
      "text/plain": [
       "a    0.955799\n",
       "dtype: float64"
      ]
     },
     "execution_count": 62,
     "metadata": {},
     "output_type": "execute_result"
    }
   ],
   "source": [
    "data.loc[:,2]"
   ]
  },
  {
   "cell_type": "code",
   "execution_count": 64,
   "metadata": {},
   "outputs": [
    {
     "data": {
      "text/plain": [
       "a   -0.421880\n",
       "b   -0.200127\n",
       "c   -0.171220\n",
       "c   -1.710489\n",
       "dtype: float64"
      ]
     },
     "execution_count": 64,
     "metadata": {},
     "output_type": "execute_result"
    }
   ],
   "source": [
    "data.loc[:, 3]"
   ]
  },
  {
   "cell_type": "code",
   "execution_count": 68,
   "metadata": {},
   "outputs": [
    {
     "data": {
      "text/plain": [
       "a  1    0.344603\n",
       "   2   -0.118409\n",
       "   3    0.995263\n",
       "b  1    0.893329\n",
       "   3    1.972521\n",
       "c  1    0.157336\n",
       "   2   -0.623562\n",
       "d  2    0.039139\n",
       "   3   -1.730728\n",
       "dtype: float64"
      ]
     },
     "execution_count": 68,
     "metadata": {},
     "output_type": "execute_result"
    }
   ],
   "source": [
    "data = pd.Series(np.random.randn(9),\n",
    "index=[['a', 'a', 'a', 'b', 'b', 'c', 'c', 'd', 'd'],\n",
    "[1, 2, 3, 1, 3, 1, 2, 2, 3]])\n",
    "data\n"
   ]
  },
  {
   "cell_type": "code",
   "execution_count": 69,
   "metadata": {},
   "outputs": [
    {
     "data": {
      "text/html": [
       "<div>\n",
       "<style scoped>\n",
       "    .dataframe tbody tr th:only-of-type {\n",
       "        vertical-align: middle;\n",
       "    }\n",
       "\n",
       "    .dataframe tbody tr th {\n",
       "        vertical-align: top;\n",
       "    }\n",
       "\n",
       "    .dataframe thead th {\n",
       "        text-align: right;\n",
       "    }\n",
       "</style>\n",
       "<table border=\"1\" class=\"dataframe\">\n",
       "  <thead>\n",
       "    <tr style=\"text-align: right;\">\n",
       "      <th></th>\n",
       "      <th>1</th>\n",
       "      <th>2</th>\n",
       "      <th>3</th>\n",
       "    </tr>\n",
       "  </thead>\n",
       "  <tbody>\n",
       "    <tr>\n",
       "      <th>a</th>\n",
       "      <td>0.344603</td>\n",
       "      <td>-0.118409</td>\n",
       "      <td>0.995263</td>\n",
       "    </tr>\n",
       "    <tr>\n",
       "      <th>b</th>\n",
       "      <td>0.893329</td>\n",
       "      <td>NaN</td>\n",
       "      <td>1.972521</td>\n",
       "    </tr>\n",
       "    <tr>\n",
       "      <th>c</th>\n",
       "      <td>0.157336</td>\n",
       "      <td>-0.623562</td>\n",
       "      <td>NaN</td>\n",
       "    </tr>\n",
       "    <tr>\n",
       "      <th>d</th>\n",
       "      <td>NaN</td>\n",
       "      <td>0.039139</td>\n",
       "      <td>-1.730728</td>\n",
       "    </tr>\n",
       "  </tbody>\n",
       "</table>\n",
       "</div>"
      ],
      "text/plain": [
       "          1         2         3\n",
       "a  0.344603 -0.118409  0.995263\n",
       "b  0.893329       NaN  1.972521\n",
       "c  0.157336 -0.623562       NaN\n",
       "d       NaN  0.039139 -1.730728"
      ]
     },
     "execution_count": 69,
     "metadata": {},
     "output_type": "execute_result"
    }
   ],
   "source": [
    "data.unstack()"
   ]
  },
  {
   "cell_type": "code",
   "execution_count": 71,
   "metadata": {},
   "outputs": [
    {
     "data": {
      "text/plain": [
       "MultiIndex([('a', 1),\n",
       "            ('a', 2),\n",
       "            ('a', 3),\n",
       "            ('b', 1),\n",
       "            ('b', 3),\n",
       "            ('c', 1),\n",
       "            ('c', 2),\n",
       "            ('d', 2),\n",
       "            ('d', 3)],\n",
       "           )"
      ]
     },
     "execution_count": 71,
     "metadata": {},
     "output_type": "execute_result"
    }
   ],
   "source": [
    "data.index"
   ]
  },
  {
   "cell_type": "code",
   "execution_count": 72,
   "metadata": {},
   "outputs": [
    {
     "data": {
      "text/plain": [
       "1    0.893329\n",
       "3    1.972521\n",
       "dtype: float64"
      ]
     },
     "execution_count": 72,
     "metadata": {},
     "output_type": "execute_result"
    }
   ],
   "source": [
    "data['b']"
   ]
  },
  {
   "cell_type": "code",
   "execution_count": 73,
   "metadata": {},
   "outputs": [
    {
     "data": {
      "text/plain": [
       "b  1    0.893329\n",
       "   3    1.972521\n",
       "c  1    0.157336\n",
       "   2   -0.623562\n",
       "d  2    0.039139\n",
       "   3   -1.730728\n",
       "dtype: float64"
      ]
     },
     "execution_count": 73,
     "metadata": {},
     "output_type": "execute_result"
    }
   ],
   "source": [
    "data['b': 'd']"
   ]
  },
  {
   "cell_type": "code",
   "execution_count": 84,
   "metadata": {},
   "outputs": [
    {
     "data": {
      "text/plain": [
       "Series([], dtype: float64)"
      ]
     },
     "execution_count": 84,
     "metadata": {},
     "output_type": "execute_result"
    }
   ],
   "source": [
    "data.loc[[3]]"
   ]
  },
  {
   "cell_type": "code",
   "execution_count": 80,
   "metadata": {},
   "outputs": [
    {
     "data": {
      "text/plain": [
       "b  1    0.893329\n",
       "   3    1.972521\n",
       "d  2    0.039139\n",
       "   3   -1.730728\n",
       "dtype: float64"
      ]
     },
     "execution_count": 80,
     "metadata": {},
     "output_type": "execute_result"
    }
   ],
   "source": [
    "data.loc[['b', 'd']]"
   ]
  },
  {
   "cell_type": "code",
   "execution_count": 85,
   "metadata": {},
   "outputs": [
    {
     "data": {
      "text/plain": [
       "1    0.344603\n",
       "2   -0.118409\n",
       "3    0.995263\n",
       "dtype: float64"
      ]
     },
     "execution_count": 85,
     "metadata": {},
     "output_type": "execute_result"
    }
   ],
   "source": [
    "data.loc['a']"
   ]
  },
  {
   "cell_type": "code",
   "execution_count": 86,
   "metadata": {},
   "outputs": [
    {
     "data": {
      "text/plain": [
       "a   -0.118409\n",
       "c   -0.623562\n",
       "d    0.039139\n",
       "dtype: float64"
      ]
     },
     "execution_count": 86,
     "metadata": {},
     "output_type": "execute_result"
    }
   ],
   "source": [
    "data.loc[:, 2]"
   ]
  },
  {
   "cell_type": "code",
   "execution_count": 87,
   "metadata": {},
   "outputs": [
    {
     "data": {
      "text/html": [
       "<div>\n",
       "<style scoped>\n",
       "    .dataframe tbody tr th:only-of-type {\n",
       "        vertical-align: middle;\n",
       "    }\n",
       "\n",
       "    .dataframe tbody tr th {\n",
       "        vertical-align: top;\n",
       "    }\n",
       "\n",
       "    .dataframe thead th {\n",
       "        text-align: right;\n",
       "    }\n",
       "</style>\n",
       "<table border=\"1\" class=\"dataframe\">\n",
       "  <thead>\n",
       "    <tr style=\"text-align: right;\">\n",
       "      <th></th>\n",
       "      <th>1</th>\n",
       "      <th>2</th>\n",
       "      <th>3</th>\n",
       "    </tr>\n",
       "  </thead>\n",
       "  <tbody>\n",
       "    <tr>\n",
       "      <th>a</th>\n",
       "      <td>0.344603</td>\n",
       "      <td>-0.118409</td>\n",
       "      <td>0.995263</td>\n",
       "    </tr>\n",
       "    <tr>\n",
       "      <th>b</th>\n",
       "      <td>0.893329</td>\n",
       "      <td>NaN</td>\n",
       "      <td>1.972521</td>\n",
       "    </tr>\n",
       "    <tr>\n",
       "      <th>c</th>\n",
       "      <td>0.157336</td>\n",
       "      <td>-0.623562</td>\n",
       "      <td>NaN</td>\n",
       "    </tr>\n",
       "    <tr>\n",
       "      <th>d</th>\n",
       "      <td>NaN</td>\n",
       "      <td>0.039139</td>\n",
       "      <td>-1.730728</td>\n",
       "    </tr>\n",
       "  </tbody>\n",
       "</table>\n",
       "</div>"
      ],
      "text/plain": [
       "          1         2         3\n",
       "a  0.344603 -0.118409  0.995263\n",
       "b  0.893329       NaN  1.972521\n",
       "c  0.157336 -0.623562       NaN\n",
       "d       NaN  0.039139 -1.730728"
      ]
     },
     "execution_count": 87,
     "metadata": {},
     "output_type": "execute_result"
    }
   ],
   "source": [
    "data.unstack()"
   ]
  },
  {
   "cell_type": "code",
   "execution_count": 88,
   "metadata": {},
   "outputs": [
    {
     "data": {
      "text/plain": [
       "a  1    0.344603\n",
       "   2   -0.118409\n",
       "   3    0.995263\n",
       "b  1    0.893329\n",
       "   3    1.972521\n",
       "c  1    0.157336\n",
       "   2   -0.623562\n",
       "d  2    0.039139\n",
       "   3   -1.730728\n",
       "dtype: float64"
      ]
     },
     "execution_count": 88,
     "metadata": {},
     "output_type": "execute_result"
    }
   ],
   "source": [
    "data.unstack().stack()"
   ]
  },
  {
   "cell_type": "code",
   "execution_count": 90,
   "metadata": {},
   "outputs": [],
   "source": [
    "df = pd.DataFrame(np.arange(12).reshape((4,-1)), \n",
    "                  index = ['one', 'two', 'three', 'four'], \n",
    "                  columns = ['aaa', 'bbb', 'ccc'])"
   ]
  },
  {
   "cell_type": "code",
   "execution_count": 91,
   "metadata": {},
   "outputs": [
    {
     "data": {
      "text/html": [
       "<div>\n",
       "<style scoped>\n",
       "    .dataframe tbody tr th:only-of-type {\n",
       "        vertical-align: middle;\n",
       "    }\n",
       "\n",
       "    .dataframe tbody tr th {\n",
       "        vertical-align: top;\n",
       "    }\n",
       "\n",
       "    .dataframe thead th {\n",
       "        text-align: right;\n",
       "    }\n",
       "</style>\n",
       "<table border=\"1\" class=\"dataframe\">\n",
       "  <thead>\n",
       "    <tr style=\"text-align: right;\">\n",
       "      <th></th>\n",
       "      <th>aaa</th>\n",
       "      <th>bbb</th>\n",
       "      <th>ccc</th>\n",
       "    </tr>\n",
       "  </thead>\n",
       "  <tbody>\n",
       "    <tr>\n",
       "      <th>one</th>\n",
       "      <td>0</td>\n",
       "      <td>1</td>\n",
       "      <td>2</td>\n",
       "    </tr>\n",
       "    <tr>\n",
       "      <th>two</th>\n",
       "      <td>3</td>\n",
       "      <td>4</td>\n",
       "      <td>5</td>\n",
       "    </tr>\n",
       "    <tr>\n",
       "      <th>three</th>\n",
       "      <td>6</td>\n",
       "      <td>7</td>\n",
       "      <td>8</td>\n",
       "    </tr>\n",
       "    <tr>\n",
       "      <th>four</th>\n",
       "      <td>9</td>\n",
       "      <td>10</td>\n",
       "      <td>11</td>\n",
       "    </tr>\n",
       "  </tbody>\n",
       "</table>\n",
       "</div>"
      ],
      "text/plain": [
       "       aaa  bbb  ccc\n",
       "one      0    1    2\n",
       "two      3    4    5\n",
       "three    6    7    8\n",
       "four     9   10   11"
      ]
     },
     "execution_count": 91,
     "metadata": {},
     "output_type": "execute_result"
    }
   ],
   "source": [
    "df"
   ]
  },
  {
   "cell_type": "code",
   "execution_count": 100,
   "metadata": {},
   "outputs": [],
   "source": [
    "df = pd.DataFrame(np.arange(12).reshape((4,-1)), \n",
    "                  index = [['one', 'two', 'three', 'four'], [1,2,1,2]], \n",
    "                  columns = [['ab', 'ab', 'cc'] , ['aaa', 'bbb', 'ccc']])"
   ]
  },
  {
   "cell_type": "code",
   "execution_count": 101,
   "metadata": {},
   "outputs": [
    {
     "data": {
      "text/html": [
       "<div>\n",
       "<style scoped>\n",
       "    .dataframe tbody tr th:only-of-type {\n",
       "        vertical-align: middle;\n",
       "    }\n",
       "\n",
       "    .dataframe tbody tr th {\n",
       "        vertical-align: top;\n",
       "    }\n",
       "\n",
       "    .dataframe thead tr th {\n",
       "        text-align: left;\n",
       "    }\n",
       "</style>\n",
       "<table border=\"1\" class=\"dataframe\">\n",
       "  <thead>\n",
       "    <tr>\n",
       "      <th></th>\n",
       "      <th></th>\n",
       "      <th colspan=\"2\" halign=\"left\">ab</th>\n",
       "      <th>cc</th>\n",
       "    </tr>\n",
       "    <tr>\n",
       "      <th></th>\n",
       "      <th></th>\n",
       "      <th>aaa</th>\n",
       "      <th>bbb</th>\n",
       "      <th>ccc</th>\n",
       "    </tr>\n",
       "  </thead>\n",
       "  <tbody>\n",
       "    <tr>\n",
       "      <th>one</th>\n",
       "      <th>1</th>\n",
       "      <td>0</td>\n",
       "      <td>1</td>\n",
       "      <td>2</td>\n",
       "    </tr>\n",
       "    <tr>\n",
       "      <th>two</th>\n",
       "      <th>2</th>\n",
       "      <td>3</td>\n",
       "      <td>4</td>\n",
       "      <td>5</td>\n",
       "    </tr>\n",
       "    <tr>\n",
       "      <th>three</th>\n",
       "      <th>1</th>\n",
       "      <td>6</td>\n",
       "      <td>7</td>\n",
       "      <td>8</td>\n",
       "    </tr>\n",
       "    <tr>\n",
       "      <th>four</th>\n",
       "      <th>2</th>\n",
       "      <td>9</td>\n",
       "      <td>10</td>\n",
       "      <td>11</td>\n",
       "    </tr>\n",
       "  </tbody>\n",
       "</table>\n",
       "</div>"
      ],
      "text/plain": [
       "         ab      cc\n",
       "        aaa bbb ccc\n",
       "one   1   0   1   2\n",
       "two   2   3   4   5\n",
       "three 1   6   7   8\n",
       "four  2   9  10  11"
      ]
     },
     "execution_count": 101,
     "metadata": {},
     "output_type": "execute_result"
    }
   ],
   "source": [
    "df"
   ]
  },
  {
   "cell_type": "code",
   "execution_count": 102,
   "metadata": {},
   "outputs": [
    {
     "data": {
      "text/plain": [
       "MultiIndex([(  'one', 1),\n",
       "            (  'two', 2),\n",
       "            ('three', 1),\n",
       "            ( 'four', 2)],\n",
       "           )"
      ]
     },
     "execution_count": 102,
     "metadata": {},
     "output_type": "execute_result"
    }
   ],
   "source": [
    "df.index"
   ]
  },
  {
   "cell_type": "code",
   "execution_count": 103,
   "metadata": {},
   "outputs": [
    {
     "data": {
      "text/plain": [
       "FrozenList([None, None])"
      ]
     },
     "execution_count": 103,
     "metadata": {},
     "output_type": "execute_result"
    }
   ],
   "source": [
    "df.index.names"
   ]
  },
  {
   "cell_type": "code",
   "execution_count": 104,
   "metadata": {},
   "outputs": [],
   "source": [
    "df.index.names = ['key1', 'key2']"
   ]
  },
  {
   "cell_type": "code",
   "execution_count": 105,
   "metadata": {},
   "outputs": [
    {
     "data": {
      "text/html": [
       "<div>\n",
       "<style scoped>\n",
       "    .dataframe tbody tr th:only-of-type {\n",
       "        vertical-align: middle;\n",
       "    }\n",
       "\n",
       "    .dataframe tbody tr th {\n",
       "        vertical-align: top;\n",
       "    }\n",
       "\n",
       "    .dataframe thead tr th {\n",
       "        text-align: left;\n",
       "    }\n",
       "\n",
       "    .dataframe thead tr:last-of-type th {\n",
       "        text-align: right;\n",
       "    }\n",
       "</style>\n",
       "<table border=\"1\" class=\"dataframe\">\n",
       "  <thead>\n",
       "    <tr>\n",
       "      <th></th>\n",
       "      <th></th>\n",
       "      <th colspan=\"2\" halign=\"left\">ab</th>\n",
       "      <th>cc</th>\n",
       "    </tr>\n",
       "    <tr>\n",
       "      <th></th>\n",
       "      <th></th>\n",
       "      <th>aaa</th>\n",
       "      <th>bbb</th>\n",
       "      <th>ccc</th>\n",
       "    </tr>\n",
       "    <tr>\n",
       "      <th>key1</th>\n",
       "      <th>key2</th>\n",
       "      <th></th>\n",
       "      <th></th>\n",
       "      <th></th>\n",
       "    </tr>\n",
       "  </thead>\n",
       "  <tbody>\n",
       "    <tr>\n",
       "      <th>one</th>\n",
       "      <th>1</th>\n",
       "      <td>0</td>\n",
       "      <td>1</td>\n",
       "      <td>2</td>\n",
       "    </tr>\n",
       "    <tr>\n",
       "      <th>two</th>\n",
       "      <th>2</th>\n",
       "      <td>3</td>\n",
       "      <td>4</td>\n",
       "      <td>5</td>\n",
       "    </tr>\n",
       "    <tr>\n",
       "      <th>three</th>\n",
       "      <th>1</th>\n",
       "      <td>6</td>\n",
       "      <td>7</td>\n",
       "      <td>8</td>\n",
       "    </tr>\n",
       "    <tr>\n",
       "      <th>four</th>\n",
       "      <th>2</th>\n",
       "      <td>9</td>\n",
       "      <td>10</td>\n",
       "      <td>11</td>\n",
       "    </tr>\n",
       "  </tbody>\n",
       "</table>\n",
       "</div>"
      ],
      "text/plain": [
       "            ab      cc\n",
       "           aaa bbb ccc\n",
       "key1  key2            \n",
       "one   1      0   1   2\n",
       "two   2      3   4   5\n",
       "three 1      6   7   8\n",
       "four  2      9  10  11"
      ]
     },
     "execution_count": 105,
     "metadata": {},
     "output_type": "execute_result"
    }
   ],
   "source": [
    "df"
   ]
  },
  {
   "cell_type": "code",
   "execution_count": 106,
   "metadata": {},
   "outputs": [
    {
     "data": {
      "text/plain": [
       "FrozenList([None, None])"
      ]
     },
     "execution_count": 106,
     "metadata": {},
     "output_type": "execute_result"
    }
   ],
   "source": [
    "df.columns.names"
   ]
  },
  {
   "cell_type": "code",
   "execution_count": 109,
   "metadata": {},
   "outputs": [],
   "source": [
    "df.columns.names = ['col_key1', 'col_key2']"
   ]
  },
  {
   "cell_type": "code",
   "execution_count": 110,
   "metadata": {},
   "outputs": [
    {
     "data": {
      "text/html": [
       "<div>\n",
       "<style scoped>\n",
       "    .dataframe tbody tr th:only-of-type {\n",
       "        vertical-align: middle;\n",
       "    }\n",
       "\n",
       "    .dataframe tbody tr th {\n",
       "        vertical-align: top;\n",
       "    }\n",
       "\n",
       "    .dataframe thead tr th {\n",
       "        text-align: left;\n",
       "    }\n",
       "\n",
       "    .dataframe thead tr:last-of-type th {\n",
       "        text-align: right;\n",
       "    }\n",
       "</style>\n",
       "<table border=\"1\" class=\"dataframe\">\n",
       "  <thead>\n",
       "    <tr>\n",
       "      <th></th>\n",
       "      <th>col_key1</th>\n",
       "      <th colspan=\"2\" halign=\"left\">ab</th>\n",
       "      <th>cc</th>\n",
       "    </tr>\n",
       "    <tr>\n",
       "      <th></th>\n",
       "      <th>col_key2</th>\n",
       "      <th>aaa</th>\n",
       "      <th>bbb</th>\n",
       "      <th>ccc</th>\n",
       "    </tr>\n",
       "    <tr>\n",
       "      <th>key1</th>\n",
       "      <th>key2</th>\n",
       "      <th></th>\n",
       "      <th></th>\n",
       "      <th></th>\n",
       "    </tr>\n",
       "  </thead>\n",
       "  <tbody>\n",
       "    <tr>\n",
       "      <th>one</th>\n",
       "      <th>1</th>\n",
       "      <td>0</td>\n",
       "      <td>1</td>\n",
       "      <td>2</td>\n",
       "    </tr>\n",
       "    <tr>\n",
       "      <th>two</th>\n",
       "      <th>2</th>\n",
       "      <td>3</td>\n",
       "      <td>4</td>\n",
       "      <td>5</td>\n",
       "    </tr>\n",
       "    <tr>\n",
       "      <th>three</th>\n",
       "      <th>1</th>\n",
       "      <td>6</td>\n",
       "      <td>7</td>\n",
       "      <td>8</td>\n",
       "    </tr>\n",
       "    <tr>\n",
       "      <th>four</th>\n",
       "      <th>2</th>\n",
       "      <td>9</td>\n",
       "      <td>10</td>\n",
       "      <td>11</td>\n",
       "    </tr>\n",
       "  </tbody>\n",
       "</table>\n",
       "</div>"
      ],
      "text/plain": [
       "col_key1    ab      cc\n",
       "col_key2   aaa bbb ccc\n",
       "key1  key2            \n",
       "one   1      0   1   2\n",
       "two   2      3   4   5\n",
       "three 1      6   7   8\n",
       "four  2      9  10  11"
      ]
     },
     "execution_count": 110,
     "metadata": {},
     "output_type": "execute_result"
    }
   ],
   "source": [
    "df"
   ]
  },
  {
   "cell_type": "code",
   "execution_count": 111,
   "metadata": {},
   "outputs": [
    {
     "data": {
      "text/plain": [
       "MultiIndex([('ab', 'aaa'),\n",
       "            ('ab', 'bbb'),\n",
       "            ('cc', 'ccc')],\n",
       "           names=['col_key1', 'col_key2'])"
      ]
     },
     "execution_count": 111,
     "metadata": {},
     "output_type": "execute_result"
    }
   ],
   "source": [
    "df.columns"
   ]
  },
  {
   "cell_type": "code",
   "execution_count": 114,
   "metadata": {},
   "outputs": [],
   "source": [
    "df.columns.names = [None,None]"
   ]
  },
  {
   "cell_type": "code",
   "execution_count": 115,
   "metadata": {},
   "outputs": [
    {
     "data": {
      "text/plain": [
       "MultiIndex([('ab', 'aaa'),\n",
       "            ('ab', 'bbb'),\n",
       "            ('cc', 'ccc')],\n",
       "           )"
      ]
     },
     "execution_count": 115,
     "metadata": {},
     "output_type": "execute_result"
    }
   ],
   "source": [
    "df.columns"
   ]
  },
  {
   "cell_type": "code",
   "execution_count": 116,
   "metadata": {},
   "outputs": [
    {
     "data": {
      "text/plain": [
       "FrozenList([None, None])"
      ]
     },
     "execution_count": 116,
     "metadata": {},
     "output_type": "execute_result"
    }
   ],
   "source": [
    "df.columns.names"
   ]
  },
  {
   "cell_type": "code",
   "execution_count": 117,
   "metadata": {},
   "outputs": [],
   "source": [
    "df.columns.names = ['col1_key', 'col2_key']"
   ]
  },
  {
   "cell_type": "code",
   "execution_count": 118,
   "metadata": {},
   "outputs": [
    {
     "data": {
      "text/plain": [
       "FrozenList(['col1_key', 'col2_key'])"
      ]
     },
     "execution_count": 118,
     "metadata": {},
     "output_type": "execute_result"
    }
   ],
   "source": [
    "df.columns.names"
   ]
  },
  {
   "cell_type": "code",
   "execution_count": 119,
   "metadata": {},
   "outputs": [
    {
     "data": {
      "text/html": [
       "<div>\n",
       "<style scoped>\n",
       "    .dataframe tbody tr th:only-of-type {\n",
       "        vertical-align: middle;\n",
       "    }\n",
       "\n",
       "    .dataframe tbody tr th {\n",
       "        vertical-align: top;\n",
       "    }\n",
       "\n",
       "    .dataframe thead th {\n",
       "        text-align: right;\n",
       "    }\n",
       "</style>\n",
       "<table border=\"1\" class=\"dataframe\">\n",
       "  <thead>\n",
       "    <tr style=\"text-align: right;\">\n",
       "      <th></th>\n",
       "      <th>col2_key</th>\n",
       "      <th>aaa</th>\n",
       "      <th>bbb</th>\n",
       "    </tr>\n",
       "    <tr>\n",
       "      <th>key1</th>\n",
       "      <th>key2</th>\n",
       "      <th></th>\n",
       "      <th></th>\n",
       "    </tr>\n",
       "  </thead>\n",
       "  <tbody>\n",
       "    <tr>\n",
       "      <th>one</th>\n",
       "      <th>1</th>\n",
       "      <td>0</td>\n",
       "      <td>1</td>\n",
       "    </tr>\n",
       "    <tr>\n",
       "      <th>two</th>\n",
       "      <th>2</th>\n",
       "      <td>3</td>\n",
       "      <td>4</td>\n",
       "    </tr>\n",
       "    <tr>\n",
       "      <th>three</th>\n",
       "      <th>1</th>\n",
       "      <td>6</td>\n",
       "      <td>7</td>\n",
       "    </tr>\n",
       "    <tr>\n",
       "      <th>four</th>\n",
       "      <th>2</th>\n",
       "      <td>9</td>\n",
       "      <td>10</td>\n",
       "    </tr>\n",
       "  </tbody>\n",
       "</table>\n",
       "</div>"
      ],
      "text/plain": [
       "col2_key    aaa  bbb\n",
       "key1  key2          \n",
       "one   1       0    1\n",
       "two   2       3    4\n",
       "three 1       6    7\n",
       "four  2       9   10"
      ]
     },
     "execution_count": 119,
     "metadata": {},
     "output_type": "execute_result"
    }
   ],
   "source": [
    "df['ab']"
   ]
  },
  {
   "cell_type": "code",
   "execution_count": 120,
   "metadata": {},
   "outputs": [
    {
     "data": {
      "text/html": [
       "<div>\n",
       "<style scoped>\n",
       "    .dataframe tbody tr th:only-of-type {\n",
       "        vertical-align: middle;\n",
       "    }\n",
       "\n",
       "    .dataframe tbody tr th {\n",
       "        vertical-align: top;\n",
       "    }\n",
       "\n",
       "    .dataframe thead th {\n",
       "        text-align: right;\n",
       "    }\n",
       "</style>\n",
       "<table border=\"1\" class=\"dataframe\">\n",
       "  <thead>\n",
       "    <tr style=\"text-align: right;\">\n",
       "      <th></th>\n",
       "      <th>col2_key</th>\n",
       "      <th>ccc</th>\n",
       "    </tr>\n",
       "    <tr>\n",
       "      <th>key1</th>\n",
       "      <th>key2</th>\n",
       "      <th></th>\n",
       "    </tr>\n",
       "  </thead>\n",
       "  <tbody>\n",
       "    <tr>\n",
       "      <th>one</th>\n",
       "      <th>1</th>\n",
       "      <td>2</td>\n",
       "    </tr>\n",
       "    <tr>\n",
       "      <th>two</th>\n",
       "      <th>2</th>\n",
       "      <td>5</td>\n",
       "    </tr>\n",
       "    <tr>\n",
       "      <th>three</th>\n",
       "      <th>1</th>\n",
       "      <td>8</td>\n",
       "    </tr>\n",
       "    <tr>\n",
       "      <th>four</th>\n",
       "      <th>2</th>\n",
       "      <td>11</td>\n",
       "    </tr>\n",
       "  </tbody>\n",
       "</table>\n",
       "</div>"
      ],
      "text/plain": [
       "col2_key    ccc\n",
       "key1  key2     \n",
       "one   1       2\n",
       "two   2       5\n",
       "three 1       8\n",
       "four  2      11"
      ]
     },
     "execution_count": 120,
     "metadata": {},
     "output_type": "execute_result"
    }
   ],
   "source": [
    "df['cc']"
   ]
  },
  {
   "cell_type": "code",
   "execution_count": 122,
   "metadata": {},
   "outputs": [
    {
     "data": {
      "text/html": [
       "<div>\n",
       "<style scoped>\n",
       "    .dataframe tbody tr th:only-of-type {\n",
       "        vertical-align: middle;\n",
       "    }\n",
       "\n",
       "    .dataframe tbody tr th {\n",
       "        vertical-align: top;\n",
       "    }\n",
       "\n",
       "    .dataframe thead tr th {\n",
       "        text-align: left;\n",
       "    }\n",
       "\n",
       "    .dataframe thead tr:last-of-type th {\n",
       "        text-align: right;\n",
       "    }\n",
       "</style>\n",
       "<table border=\"1\" class=\"dataframe\">\n",
       "  <thead>\n",
       "    <tr>\n",
       "      <th>col1_key</th>\n",
       "      <th colspan=\"2\" halign=\"left\">ab</th>\n",
       "      <th>cc</th>\n",
       "    </tr>\n",
       "    <tr>\n",
       "      <th>col2_key</th>\n",
       "      <th>aaa</th>\n",
       "      <th>bbb</th>\n",
       "      <th>ccc</th>\n",
       "    </tr>\n",
       "    <tr>\n",
       "      <th>key2</th>\n",
       "      <th></th>\n",
       "      <th></th>\n",
       "      <th></th>\n",
       "    </tr>\n",
       "  </thead>\n",
       "  <tbody>\n",
       "    <tr>\n",
       "      <th>1</th>\n",
       "      <td>0</td>\n",
       "      <td>1</td>\n",
       "      <td>2</td>\n",
       "    </tr>\n",
       "  </tbody>\n",
       "</table>\n",
       "</div>"
      ],
      "text/plain": [
       "col1_key  ab      cc\n",
       "col2_key aaa bbb ccc\n",
       "key2                \n",
       "1          0   1   2"
      ]
     },
     "execution_count": 122,
     "metadata": {},
     "output_type": "execute_result"
    }
   ],
   "source": [
    "df.loc['one']"
   ]
  },
  {
   "cell_type": "code",
   "execution_count": 123,
   "metadata": {},
   "outputs": [
    {
     "data": {
      "text/html": [
       "<div>\n",
       "<style scoped>\n",
       "    .dataframe tbody tr th:only-of-type {\n",
       "        vertical-align: middle;\n",
       "    }\n",
       "\n",
       "    .dataframe tbody tr th {\n",
       "        vertical-align: top;\n",
       "    }\n",
       "\n",
       "    .dataframe thead tr th {\n",
       "        text-align: left;\n",
       "    }\n",
       "\n",
       "    .dataframe thead tr:last-of-type th {\n",
       "        text-align: right;\n",
       "    }\n",
       "</style>\n",
       "<table border=\"1\" class=\"dataframe\">\n",
       "  <thead>\n",
       "    <tr>\n",
       "      <th></th>\n",
       "      <th>col1_key</th>\n",
       "      <th colspan=\"2\" halign=\"left\">ab</th>\n",
       "      <th>cc</th>\n",
       "    </tr>\n",
       "    <tr>\n",
       "      <th></th>\n",
       "      <th>col2_key</th>\n",
       "      <th>aaa</th>\n",
       "      <th>bbb</th>\n",
       "      <th>ccc</th>\n",
       "    </tr>\n",
       "    <tr>\n",
       "      <th>key1</th>\n",
       "      <th>key2</th>\n",
       "      <th></th>\n",
       "      <th></th>\n",
       "      <th></th>\n",
       "    </tr>\n",
       "  </thead>\n",
       "  <tbody>\n",
       "    <tr>\n",
       "      <th>one</th>\n",
       "      <th>1</th>\n",
       "      <td>0</td>\n",
       "      <td>1</td>\n",
       "      <td>2</td>\n",
       "    </tr>\n",
       "    <tr>\n",
       "      <th>three</th>\n",
       "      <th>1</th>\n",
       "      <td>6</td>\n",
       "      <td>7</td>\n",
       "      <td>8</td>\n",
       "    </tr>\n",
       "  </tbody>\n",
       "</table>\n",
       "</div>"
      ],
      "text/plain": [
       "col1_key    ab      cc\n",
       "col2_key   aaa bbb ccc\n",
       "key1  key2            \n",
       "one   1      0   1   2\n",
       "three 1      6   7   8"
      ]
     },
     "execution_count": 123,
     "metadata": {},
     "output_type": "execute_result"
    }
   ],
   "source": [
    "df.loc[['one', 'three']]"
   ]
  },
  {
   "cell_type": "code",
   "execution_count": 125,
   "metadata": {},
   "outputs": [
    {
     "data": {
      "text/html": [
       "<div>\n",
       "<style scoped>\n",
       "    .dataframe tbody tr th:only-of-type {\n",
       "        vertical-align: middle;\n",
       "    }\n",
       "\n",
       "    .dataframe tbody tr th {\n",
       "        vertical-align: top;\n",
       "    }\n",
       "\n",
       "    .dataframe thead tr th {\n",
       "        text-align: left;\n",
       "    }\n",
       "\n",
       "    .dataframe thead tr:last-of-type th {\n",
       "        text-align: right;\n",
       "    }\n",
       "</style>\n",
       "<table border=\"1\" class=\"dataframe\">\n",
       "  <thead>\n",
       "    <tr>\n",
       "      <th></th>\n",
       "      <th>col1_key</th>\n",
       "      <th colspan=\"2\" halign=\"left\">ab</th>\n",
       "      <th>cc</th>\n",
       "    </tr>\n",
       "    <tr>\n",
       "      <th></th>\n",
       "      <th>col2_key</th>\n",
       "      <th>aaa</th>\n",
       "      <th>bbb</th>\n",
       "      <th>ccc</th>\n",
       "    </tr>\n",
       "    <tr>\n",
       "      <th>key2</th>\n",
       "      <th>key1</th>\n",
       "      <th></th>\n",
       "      <th></th>\n",
       "      <th></th>\n",
       "    </tr>\n",
       "  </thead>\n",
       "  <tbody>\n",
       "    <tr>\n",
       "      <th>1</th>\n",
       "      <th>one</th>\n",
       "      <td>0</td>\n",
       "      <td>1</td>\n",
       "      <td>2</td>\n",
       "    </tr>\n",
       "    <tr>\n",
       "      <th>2</th>\n",
       "      <th>two</th>\n",
       "      <td>3</td>\n",
       "      <td>4</td>\n",
       "      <td>5</td>\n",
       "    </tr>\n",
       "    <tr>\n",
       "      <th>1</th>\n",
       "      <th>three</th>\n",
       "      <td>6</td>\n",
       "      <td>7</td>\n",
       "      <td>8</td>\n",
       "    </tr>\n",
       "    <tr>\n",
       "      <th>2</th>\n",
       "      <th>four</th>\n",
       "      <td>9</td>\n",
       "      <td>10</td>\n",
       "      <td>11</td>\n",
       "    </tr>\n",
       "  </tbody>\n",
       "</table>\n",
       "</div>"
      ],
      "text/plain": [
       "col1_key    ab      cc\n",
       "col2_key   aaa bbb ccc\n",
       "key2 key1             \n",
       "1    one     0   1   2\n",
       "2    two     3   4   5\n",
       "1    three   6   7   8\n",
       "2    four    9  10  11"
      ]
     },
     "execution_count": 125,
     "metadata": {},
     "output_type": "execute_result"
    }
   ],
   "source": [
    "df.swaplevel('key1', 'key2')"
   ]
  },
  {
   "cell_type": "code",
   "execution_count": 126,
   "metadata": {},
   "outputs": [
    {
     "data": {
      "text/html": [
       "<div>\n",
       "<style scoped>\n",
       "    .dataframe tbody tr th:only-of-type {\n",
       "        vertical-align: middle;\n",
       "    }\n",
       "\n",
       "    .dataframe tbody tr th {\n",
       "        vertical-align: top;\n",
       "    }\n",
       "\n",
       "    .dataframe thead tr th {\n",
       "        text-align: left;\n",
       "    }\n",
       "\n",
       "    .dataframe thead tr:last-of-type th {\n",
       "        text-align: right;\n",
       "    }\n",
       "</style>\n",
       "<table border=\"1\" class=\"dataframe\">\n",
       "  <thead>\n",
       "    <tr>\n",
       "      <th></th>\n",
       "      <th>col1_key</th>\n",
       "      <th colspan=\"2\" halign=\"left\">ab</th>\n",
       "      <th>cc</th>\n",
       "    </tr>\n",
       "    <tr>\n",
       "      <th></th>\n",
       "      <th>col2_key</th>\n",
       "      <th>aaa</th>\n",
       "      <th>bbb</th>\n",
       "      <th>ccc</th>\n",
       "    </tr>\n",
       "    <tr>\n",
       "      <th>key1</th>\n",
       "      <th>key2</th>\n",
       "      <th></th>\n",
       "      <th></th>\n",
       "      <th></th>\n",
       "    </tr>\n",
       "  </thead>\n",
       "  <tbody>\n",
       "    <tr>\n",
       "      <th>one</th>\n",
       "      <th>1</th>\n",
       "      <td>0</td>\n",
       "      <td>1</td>\n",
       "      <td>2</td>\n",
       "    </tr>\n",
       "    <tr>\n",
       "      <th>two</th>\n",
       "      <th>2</th>\n",
       "      <td>3</td>\n",
       "      <td>4</td>\n",
       "      <td>5</td>\n",
       "    </tr>\n",
       "    <tr>\n",
       "      <th>three</th>\n",
       "      <th>1</th>\n",
       "      <td>6</td>\n",
       "      <td>7</td>\n",
       "      <td>8</td>\n",
       "    </tr>\n",
       "    <tr>\n",
       "      <th>four</th>\n",
       "      <th>2</th>\n",
       "      <td>9</td>\n",
       "      <td>10</td>\n",
       "      <td>11</td>\n",
       "    </tr>\n",
       "  </tbody>\n",
       "</table>\n",
       "</div>"
      ],
      "text/plain": [
       "col1_key    ab      cc\n",
       "col2_key   aaa bbb ccc\n",
       "key1  key2            \n",
       "one   1      0   1   2\n",
       "two   2      3   4   5\n",
       "three 1      6   7   8\n",
       "four  2      9  10  11"
      ]
     },
     "execution_count": 126,
     "metadata": {},
     "output_type": "execute_result"
    }
   ],
   "source": [
    "df"
   ]
  },
  {
   "cell_type": "code",
   "execution_count": 127,
   "metadata": {},
   "outputs": [
    {
     "data": {
      "text/html": [
       "<div>\n",
       "<style scoped>\n",
       "    .dataframe tbody tr th:only-of-type {\n",
       "        vertical-align: middle;\n",
       "    }\n",
       "\n",
       "    .dataframe tbody tr th {\n",
       "        vertical-align: top;\n",
       "    }\n",
       "\n",
       "    .dataframe thead tr th {\n",
       "        text-align: left;\n",
       "    }\n",
       "\n",
       "    .dataframe thead tr:last-of-type th {\n",
       "        text-align: right;\n",
       "    }\n",
       "</style>\n",
       "<table border=\"1\" class=\"dataframe\">\n",
       "  <thead>\n",
       "    <tr>\n",
       "      <th></th>\n",
       "      <th>col1_key</th>\n",
       "      <th colspan=\"2\" halign=\"left\">ab</th>\n",
       "      <th>cc</th>\n",
       "    </tr>\n",
       "    <tr>\n",
       "      <th></th>\n",
       "      <th>col2_key</th>\n",
       "      <th>aaa</th>\n",
       "      <th>bbb</th>\n",
       "      <th>ccc</th>\n",
       "    </tr>\n",
       "    <tr>\n",
       "      <th>key1</th>\n",
       "      <th>key2</th>\n",
       "      <th></th>\n",
       "      <th></th>\n",
       "      <th></th>\n",
       "    </tr>\n",
       "  </thead>\n",
       "  <tbody>\n",
       "    <tr>\n",
       "      <th>one</th>\n",
       "      <th>1</th>\n",
       "      <td>0</td>\n",
       "      <td>1</td>\n",
       "      <td>2</td>\n",
       "    </tr>\n",
       "    <tr>\n",
       "      <th>three</th>\n",
       "      <th>1</th>\n",
       "      <td>6</td>\n",
       "      <td>7</td>\n",
       "      <td>8</td>\n",
       "    </tr>\n",
       "    <tr>\n",
       "      <th>four</th>\n",
       "      <th>2</th>\n",
       "      <td>9</td>\n",
       "      <td>10</td>\n",
       "      <td>11</td>\n",
       "    </tr>\n",
       "    <tr>\n",
       "      <th>two</th>\n",
       "      <th>2</th>\n",
       "      <td>3</td>\n",
       "      <td>4</td>\n",
       "      <td>5</td>\n",
       "    </tr>\n",
       "  </tbody>\n",
       "</table>\n",
       "</div>"
      ],
      "text/plain": [
       "col1_key    ab      cc\n",
       "col2_key   aaa bbb ccc\n",
       "key1  key2            \n",
       "one   1      0   1   2\n",
       "three 1      6   7   8\n",
       "four  2      9  10  11\n",
       "two   2      3   4   5"
      ]
     },
     "execution_count": 127,
     "metadata": {},
     "output_type": "execute_result"
    }
   ],
   "source": [
    "df.sort_index(level=1)"
   ]
  },
  {
   "cell_type": "code",
   "execution_count": 128,
   "metadata": {},
   "outputs": [
    {
     "data": {
      "text/html": [
       "<div>\n",
       "<style scoped>\n",
       "    .dataframe tbody tr th:only-of-type {\n",
       "        vertical-align: middle;\n",
       "    }\n",
       "\n",
       "    .dataframe tbody tr th {\n",
       "        vertical-align: top;\n",
       "    }\n",
       "\n",
       "    .dataframe thead tr th {\n",
       "        text-align: left;\n",
       "    }\n",
       "\n",
       "    .dataframe thead tr:last-of-type th {\n",
       "        text-align: right;\n",
       "    }\n",
       "</style>\n",
       "<table border=\"1\" class=\"dataframe\">\n",
       "  <thead>\n",
       "    <tr>\n",
       "      <th></th>\n",
       "      <th>col1_key</th>\n",
       "      <th colspan=\"2\" halign=\"left\">ab</th>\n",
       "      <th>cc</th>\n",
       "    </tr>\n",
       "    <tr>\n",
       "      <th></th>\n",
       "      <th>col2_key</th>\n",
       "      <th>aaa</th>\n",
       "      <th>bbb</th>\n",
       "      <th>ccc</th>\n",
       "    </tr>\n",
       "    <tr>\n",
       "      <th>key1</th>\n",
       "      <th>key2</th>\n",
       "      <th></th>\n",
       "      <th></th>\n",
       "      <th></th>\n",
       "    </tr>\n",
       "  </thead>\n",
       "  <tbody>\n",
       "    <tr>\n",
       "      <th>four</th>\n",
       "      <th>2</th>\n",
       "      <td>9</td>\n",
       "      <td>10</td>\n",
       "      <td>11</td>\n",
       "    </tr>\n",
       "    <tr>\n",
       "      <th>one</th>\n",
       "      <th>1</th>\n",
       "      <td>0</td>\n",
       "      <td>1</td>\n",
       "      <td>2</td>\n",
       "    </tr>\n",
       "    <tr>\n",
       "      <th>three</th>\n",
       "      <th>1</th>\n",
       "      <td>6</td>\n",
       "      <td>7</td>\n",
       "      <td>8</td>\n",
       "    </tr>\n",
       "    <tr>\n",
       "      <th>two</th>\n",
       "      <th>2</th>\n",
       "      <td>3</td>\n",
       "      <td>4</td>\n",
       "      <td>5</td>\n",
       "    </tr>\n",
       "  </tbody>\n",
       "</table>\n",
       "</div>"
      ],
      "text/plain": [
       "col1_key    ab      cc\n",
       "col2_key   aaa bbb ccc\n",
       "key1  key2            \n",
       "four  2      9  10  11\n",
       "one   1      0   1   2\n",
       "three 1      6   7   8\n",
       "two   2      3   4   5"
      ]
     },
     "execution_count": 128,
     "metadata": {},
     "output_type": "execute_result"
    }
   ],
   "source": [
    "df.sort_index(level=0)"
   ]
  },
  {
   "cell_type": "code",
   "execution_count": 129,
   "metadata": {},
   "outputs": [
    {
     "data": {
      "text/html": [
       "<div>\n",
       "<style scoped>\n",
       "    .dataframe tbody tr th:only-of-type {\n",
       "        vertical-align: middle;\n",
       "    }\n",
       "\n",
       "    .dataframe tbody tr th {\n",
       "        vertical-align: top;\n",
       "    }\n",
       "\n",
       "    .dataframe thead tr th {\n",
       "        text-align: left;\n",
       "    }\n",
       "\n",
       "    .dataframe thead tr:last-of-type th {\n",
       "        text-align: right;\n",
       "    }\n",
       "</style>\n",
       "<table border=\"1\" class=\"dataframe\">\n",
       "  <thead>\n",
       "    <tr>\n",
       "      <th></th>\n",
       "      <th>col1_key</th>\n",
       "      <th colspan=\"2\" halign=\"left\">ab</th>\n",
       "      <th>cc</th>\n",
       "    </tr>\n",
       "    <tr>\n",
       "      <th></th>\n",
       "      <th>col2_key</th>\n",
       "      <th>aaa</th>\n",
       "      <th>bbb</th>\n",
       "      <th>ccc</th>\n",
       "    </tr>\n",
       "    <tr>\n",
       "      <th>key1</th>\n",
       "      <th>key2</th>\n",
       "      <th></th>\n",
       "      <th></th>\n",
       "      <th></th>\n",
       "    </tr>\n",
       "  </thead>\n",
       "  <tbody>\n",
       "    <tr>\n",
       "      <th>one</th>\n",
       "      <th>1</th>\n",
       "      <td>0</td>\n",
       "      <td>1</td>\n",
       "      <td>2</td>\n",
       "    </tr>\n",
       "    <tr>\n",
       "      <th>two</th>\n",
       "      <th>2</th>\n",
       "      <td>3</td>\n",
       "      <td>4</td>\n",
       "      <td>5</td>\n",
       "    </tr>\n",
       "    <tr>\n",
       "      <th>three</th>\n",
       "      <th>1</th>\n",
       "      <td>6</td>\n",
       "      <td>7</td>\n",
       "      <td>8</td>\n",
       "    </tr>\n",
       "    <tr>\n",
       "      <th>four</th>\n",
       "      <th>2</th>\n",
       "      <td>9</td>\n",
       "      <td>10</td>\n",
       "      <td>11</td>\n",
       "    </tr>\n",
       "  </tbody>\n",
       "</table>\n",
       "</div>"
      ],
      "text/plain": [
       "col1_key    ab      cc\n",
       "col2_key   aaa bbb ccc\n",
       "key1  key2            \n",
       "one   1      0   1   2\n",
       "two   2      3   4   5\n",
       "three 1      6   7   8\n",
       "four  2      9  10  11"
      ]
     },
     "execution_count": 129,
     "metadata": {},
     "output_type": "execute_result"
    }
   ],
   "source": [
    "df.sort_index(level=0, axis=1)"
   ]
  },
  {
   "cell_type": "code",
   "execution_count": 130,
   "metadata": {},
   "outputs": [],
   "source": [
    "df.columns = [['deep','deep', 'ai'],['front','rest','ampersand']]"
   ]
  },
  {
   "cell_type": "code",
   "execution_count": 132,
   "metadata": {},
   "outputs": [
    {
     "data": {
      "text/html": [
       "<div>\n",
       "<style scoped>\n",
       "    .dataframe tbody tr th:only-of-type {\n",
       "        vertical-align: middle;\n",
       "    }\n",
       "\n",
       "    .dataframe tbody tr th {\n",
       "        vertical-align: top;\n",
       "    }\n",
       "\n",
       "    .dataframe thead tr th {\n",
       "        text-align: left;\n",
       "    }\n",
       "\n",
       "    .dataframe thead tr:last-of-type th {\n",
       "        text-align: right;\n",
       "    }\n",
       "</style>\n",
       "<table border=\"1\" class=\"dataframe\">\n",
       "  <thead>\n",
       "    <tr>\n",
       "      <th></th>\n",
       "      <th></th>\n",
       "      <th colspan=\"2\" halign=\"left\">deep</th>\n",
       "      <th>ai</th>\n",
       "    </tr>\n",
       "    <tr>\n",
       "      <th></th>\n",
       "      <th></th>\n",
       "      <th>front</th>\n",
       "      <th>rest</th>\n",
       "      <th>ampersand</th>\n",
       "    </tr>\n",
       "    <tr>\n",
       "      <th>key1</th>\n",
       "      <th>key2</th>\n",
       "      <th></th>\n",
       "      <th></th>\n",
       "      <th></th>\n",
       "    </tr>\n",
       "  </thead>\n",
       "  <tbody>\n",
       "    <tr>\n",
       "      <th>one</th>\n",
       "      <th>1</th>\n",
       "      <td>0</td>\n",
       "      <td>1</td>\n",
       "      <td>2</td>\n",
       "    </tr>\n",
       "    <tr>\n",
       "      <th>two</th>\n",
       "      <th>2</th>\n",
       "      <td>3</td>\n",
       "      <td>4</td>\n",
       "      <td>5</td>\n",
       "    </tr>\n",
       "    <tr>\n",
       "      <th>three</th>\n",
       "      <th>1</th>\n",
       "      <td>6</td>\n",
       "      <td>7</td>\n",
       "      <td>8</td>\n",
       "    </tr>\n",
       "    <tr>\n",
       "      <th>four</th>\n",
       "      <th>2</th>\n",
       "      <td>9</td>\n",
       "      <td>10</td>\n",
       "      <td>11</td>\n",
       "    </tr>\n",
       "  </tbody>\n",
       "</table>\n",
       "</div>"
      ],
      "text/plain": [
       "            deep             ai\n",
       "           front rest ampersand\n",
       "key1  key2                     \n",
       "one   1        0    1         2\n",
       "two   2        3    4         5\n",
       "three 1        6    7         8\n",
       "four  2        9   10        11"
      ]
     },
     "execution_count": 132,
     "metadata": {},
     "output_type": "execute_result"
    }
   ],
   "source": [
    "df"
   ]
  },
  {
   "cell_type": "code",
   "execution_count": 133,
   "metadata": {},
   "outputs": [
    {
     "data": {
      "text/html": [
       "<div>\n",
       "<style scoped>\n",
       "    .dataframe tbody tr th:only-of-type {\n",
       "        vertical-align: middle;\n",
       "    }\n",
       "\n",
       "    .dataframe tbody tr th {\n",
       "        vertical-align: top;\n",
       "    }\n",
       "\n",
       "    .dataframe thead tr th {\n",
       "        text-align: left;\n",
       "    }\n",
       "\n",
       "    .dataframe thead tr:last-of-type th {\n",
       "        text-align: right;\n",
       "    }\n",
       "</style>\n",
       "<table border=\"1\" class=\"dataframe\">\n",
       "  <thead>\n",
       "    <tr>\n",
       "      <th></th>\n",
       "      <th></th>\n",
       "      <th>ai</th>\n",
       "      <th colspan=\"2\" halign=\"left\">deep</th>\n",
       "    </tr>\n",
       "    <tr>\n",
       "      <th></th>\n",
       "      <th></th>\n",
       "      <th>ampersand</th>\n",
       "      <th>front</th>\n",
       "      <th>rest</th>\n",
       "    </tr>\n",
       "    <tr>\n",
       "      <th>key1</th>\n",
       "      <th>key2</th>\n",
       "      <th></th>\n",
       "      <th></th>\n",
       "      <th></th>\n",
       "    </tr>\n",
       "  </thead>\n",
       "  <tbody>\n",
       "    <tr>\n",
       "      <th>one</th>\n",
       "      <th>1</th>\n",
       "      <td>2</td>\n",
       "      <td>0</td>\n",
       "      <td>1</td>\n",
       "    </tr>\n",
       "    <tr>\n",
       "      <th>two</th>\n",
       "      <th>2</th>\n",
       "      <td>5</td>\n",
       "      <td>3</td>\n",
       "      <td>4</td>\n",
       "    </tr>\n",
       "    <tr>\n",
       "      <th>three</th>\n",
       "      <th>1</th>\n",
       "      <td>8</td>\n",
       "      <td>6</td>\n",
       "      <td>7</td>\n",
       "    </tr>\n",
       "    <tr>\n",
       "      <th>four</th>\n",
       "      <th>2</th>\n",
       "      <td>11</td>\n",
       "      <td>9</td>\n",
       "      <td>10</td>\n",
       "    </tr>\n",
       "  </tbody>\n",
       "</table>\n",
       "</div>"
      ],
      "text/plain": [
       "                  ai  deep     \n",
       "           ampersand front rest\n",
       "key1  key2                     \n",
       "one   1            2     0    1\n",
       "two   2            5     3    4\n",
       "three 1            8     6    7\n",
       "four  2           11     9   10"
      ]
     },
     "execution_count": 133,
     "metadata": {},
     "output_type": "execute_result"
    }
   ],
   "source": [
    "df.sort_index(level=0, axis=1)"
   ]
  },
  {
   "cell_type": "code",
   "execution_count": 134,
   "metadata": {},
   "outputs": [
    {
     "data": {
      "text/html": [
       "<div>\n",
       "<style scoped>\n",
       "    .dataframe tbody tr th:only-of-type {\n",
       "        vertical-align: middle;\n",
       "    }\n",
       "\n",
       "    .dataframe tbody tr th {\n",
       "        vertical-align: top;\n",
       "    }\n",
       "\n",
       "    .dataframe thead tr th {\n",
       "        text-align: left;\n",
       "    }\n",
       "\n",
       "    .dataframe thead tr:last-of-type th {\n",
       "        text-align: right;\n",
       "    }\n",
       "</style>\n",
       "<table border=\"1\" class=\"dataframe\">\n",
       "  <thead>\n",
       "    <tr>\n",
       "      <th></th>\n",
       "      <th></th>\n",
       "      <th>ai</th>\n",
       "      <th colspan=\"2\" halign=\"left\">deep</th>\n",
       "    </tr>\n",
       "    <tr>\n",
       "      <th></th>\n",
       "      <th></th>\n",
       "      <th>ampersand</th>\n",
       "      <th>front</th>\n",
       "      <th>rest</th>\n",
       "    </tr>\n",
       "    <tr>\n",
       "      <th>key1</th>\n",
       "      <th>key2</th>\n",
       "      <th></th>\n",
       "      <th></th>\n",
       "      <th></th>\n",
       "    </tr>\n",
       "  </thead>\n",
       "  <tbody>\n",
       "    <tr>\n",
       "      <th>one</th>\n",
       "      <th>1</th>\n",
       "      <td>2</td>\n",
       "      <td>0</td>\n",
       "      <td>1</td>\n",
       "    </tr>\n",
       "    <tr>\n",
       "      <th>two</th>\n",
       "      <th>2</th>\n",
       "      <td>5</td>\n",
       "      <td>3</td>\n",
       "      <td>4</td>\n",
       "    </tr>\n",
       "    <tr>\n",
       "      <th>three</th>\n",
       "      <th>1</th>\n",
       "      <td>8</td>\n",
       "      <td>6</td>\n",
       "      <td>7</td>\n",
       "    </tr>\n",
       "    <tr>\n",
       "      <th>four</th>\n",
       "      <th>2</th>\n",
       "      <td>11</td>\n",
       "      <td>9</td>\n",
       "      <td>10</td>\n",
       "    </tr>\n",
       "  </tbody>\n",
       "</table>\n",
       "</div>"
      ],
      "text/plain": [
       "                  ai  deep     \n",
       "           ampersand front rest\n",
       "key1  key2                     \n",
       "one   1            2     0    1\n",
       "two   2            5     3    4\n",
       "three 1            8     6    7\n",
       "four  2           11     9   10"
      ]
     },
     "execution_count": 134,
     "metadata": {},
     "output_type": "execute_result"
    }
   ],
   "source": [
    "df.sort_index(level=1, axis=1)"
   ]
  },
  {
   "cell_type": "code",
   "execution_count": 135,
   "metadata": {},
   "outputs": [
    {
     "data": {
      "text/html": [
       "<div>\n",
       "<style scoped>\n",
       "    .dataframe tbody tr th:only-of-type {\n",
       "        vertical-align: middle;\n",
       "    }\n",
       "\n",
       "    .dataframe tbody tr th {\n",
       "        vertical-align: top;\n",
       "    }\n",
       "\n",
       "    .dataframe thead tr th {\n",
       "        text-align: left;\n",
       "    }\n",
       "\n",
       "    .dataframe thead tr:last-of-type th {\n",
       "        text-align: right;\n",
       "    }\n",
       "</style>\n",
       "<table border=\"1\" class=\"dataframe\">\n",
       "  <thead>\n",
       "    <tr>\n",
       "      <th></th>\n",
       "      <th></th>\n",
       "      <th colspan=\"2\" halign=\"left\">deep</th>\n",
       "      <th>ai</th>\n",
       "    </tr>\n",
       "    <tr>\n",
       "      <th></th>\n",
       "      <th></th>\n",
       "      <th>front</th>\n",
       "      <th>rest</th>\n",
       "      <th>ampersand</th>\n",
       "    </tr>\n",
       "    <tr>\n",
       "      <th>key2</th>\n",
       "      <th>key1</th>\n",
       "      <th></th>\n",
       "      <th></th>\n",
       "      <th></th>\n",
       "    </tr>\n",
       "  </thead>\n",
       "  <tbody>\n",
       "    <tr>\n",
       "      <th>1</th>\n",
       "      <th>one</th>\n",
       "      <td>0</td>\n",
       "      <td>1</td>\n",
       "      <td>2</td>\n",
       "    </tr>\n",
       "    <tr>\n",
       "      <th>2</th>\n",
       "      <th>two</th>\n",
       "      <td>3</td>\n",
       "      <td>4</td>\n",
       "      <td>5</td>\n",
       "    </tr>\n",
       "    <tr>\n",
       "      <th>1</th>\n",
       "      <th>three</th>\n",
       "      <td>6</td>\n",
       "      <td>7</td>\n",
       "      <td>8</td>\n",
       "    </tr>\n",
       "    <tr>\n",
       "      <th>2</th>\n",
       "      <th>four</th>\n",
       "      <td>9</td>\n",
       "      <td>10</td>\n",
       "      <td>11</td>\n",
       "    </tr>\n",
       "  </tbody>\n",
       "</table>\n",
       "</div>"
      ],
      "text/plain": [
       "            deep             ai\n",
       "           front rest ampersand\n",
       "key2 key1                      \n",
       "1    one       0    1         2\n",
       "2    two       3    4         5\n",
       "1    three     6    7         8\n",
       "2    four      9   10        11"
      ]
     },
     "execution_count": 135,
     "metadata": {},
     "output_type": "execute_result"
    }
   ],
   "source": [
    "df.swaplevel('key1', 'key2')"
   ]
  },
  {
   "cell_type": "code",
   "execution_count": 136,
   "metadata": {},
   "outputs": [
    {
     "data": {
      "text/html": [
       "<div>\n",
       "<style scoped>\n",
       "    .dataframe tbody tr th:only-of-type {\n",
       "        vertical-align: middle;\n",
       "    }\n",
       "\n",
       "    .dataframe tbody tr th {\n",
       "        vertical-align: top;\n",
       "    }\n",
       "\n",
       "    .dataframe thead tr th {\n",
       "        text-align: left;\n",
       "    }\n",
       "\n",
       "    .dataframe thead tr:last-of-type th {\n",
       "        text-align: right;\n",
       "    }\n",
       "</style>\n",
       "<table border=\"1\" class=\"dataframe\">\n",
       "  <thead>\n",
       "    <tr>\n",
       "      <th></th>\n",
       "      <th></th>\n",
       "      <th colspan=\"2\" halign=\"left\">deep</th>\n",
       "      <th>ai</th>\n",
       "    </tr>\n",
       "    <tr>\n",
       "      <th></th>\n",
       "      <th></th>\n",
       "      <th>front</th>\n",
       "      <th>rest</th>\n",
       "      <th>ampersand</th>\n",
       "    </tr>\n",
       "    <tr>\n",
       "      <th>key2</th>\n",
       "      <th>key1</th>\n",
       "      <th></th>\n",
       "      <th></th>\n",
       "      <th></th>\n",
       "    </tr>\n",
       "  </thead>\n",
       "  <tbody>\n",
       "    <tr>\n",
       "      <th>1</th>\n",
       "      <th>one</th>\n",
       "      <td>0</td>\n",
       "      <td>1</td>\n",
       "      <td>2</td>\n",
       "    </tr>\n",
       "    <tr>\n",
       "      <th>2</th>\n",
       "      <th>two</th>\n",
       "      <td>3</td>\n",
       "      <td>4</td>\n",
       "      <td>5</td>\n",
       "    </tr>\n",
       "    <tr>\n",
       "      <th>1</th>\n",
       "      <th>three</th>\n",
       "      <td>6</td>\n",
       "      <td>7</td>\n",
       "      <td>8</td>\n",
       "    </tr>\n",
       "    <tr>\n",
       "      <th>2</th>\n",
       "      <th>four</th>\n",
       "      <td>9</td>\n",
       "      <td>10</td>\n",
       "      <td>11</td>\n",
       "    </tr>\n",
       "  </tbody>\n",
       "</table>\n",
       "</div>"
      ],
      "text/plain": [
       "            deep             ai\n",
       "           front rest ampersand\n",
       "key2 key1                      \n",
       "1    one       0    1         2\n",
       "2    two       3    4         5\n",
       "1    three     6    7         8\n",
       "2    four      9   10        11"
      ]
     },
     "execution_count": 136,
     "metadata": {},
     "output_type": "execute_result"
    }
   ],
   "source": [
    "df.swaplevel(0,1)"
   ]
  },
  {
   "cell_type": "code",
   "execution_count": 137,
   "metadata": {},
   "outputs": [
    {
     "data": {
      "text/html": [
       "<div>\n",
       "<style scoped>\n",
       "    .dataframe tbody tr th:only-of-type {\n",
       "        vertical-align: middle;\n",
       "    }\n",
       "\n",
       "    .dataframe tbody tr th {\n",
       "        vertical-align: top;\n",
       "    }\n",
       "\n",
       "    .dataframe thead tr th {\n",
       "        text-align: left;\n",
       "    }\n",
       "\n",
       "    .dataframe thead tr:last-of-type th {\n",
       "        text-align: right;\n",
       "    }\n",
       "</style>\n",
       "<table border=\"1\" class=\"dataframe\">\n",
       "  <thead>\n",
       "    <tr>\n",
       "      <th></th>\n",
       "      <th></th>\n",
       "      <th colspan=\"2\" halign=\"left\">deep</th>\n",
       "      <th>ai</th>\n",
       "    </tr>\n",
       "    <tr>\n",
       "      <th></th>\n",
       "      <th></th>\n",
       "      <th>front</th>\n",
       "      <th>rest</th>\n",
       "      <th>ampersand</th>\n",
       "    </tr>\n",
       "    <tr>\n",
       "      <th>key2</th>\n",
       "      <th>key1</th>\n",
       "      <th></th>\n",
       "      <th></th>\n",
       "      <th></th>\n",
       "    </tr>\n",
       "  </thead>\n",
       "  <tbody>\n",
       "    <tr>\n",
       "      <th rowspan=\"2\" valign=\"top\">1</th>\n",
       "      <th>one</th>\n",
       "      <td>0</td>\n",
       "      <td>1</td>\n",
       "      <td>2</td>\n",
       "    </tr>\n",
       "    <tr>\n",
       "      <th>three</th>\n",
       "      <td>6</td>\n",
       "      <td>7</td>\n",
       "      <td>8</td>\n",
       "    </tr>\n",
       "    <tr>\n",
       "      <th rowspan=\"2\" valign=\"top\">2</th>\n",
       "      <th>four</th>\n",
       "      <td>9</td>\n",
       "      <td>10</td>\n",
       "      <td>11</td>\n",
       "    </tr>\n",
       "    <tr>\n",
       "      <th>two</th>\n",
       "      <td>3</td>\n",
       "      <td>4</td>\n",
       "      <td>5</td>\n",
       "    </tr>\n",
       "  </tbody>\n",
       "</table>\n",
       "</div>"
      ],
      "text/plain": [
       "            deep             ai\n",
       "           front rest ampersand\n",
       "key2 key1                      \n",
       "1    one       0    1         2\n",
       "     three     6    7         8\n",
       "2    four      9   10        11\n",
       "     two       3    4         5"
      ]
     },
     "execution_count": 137,
     "metadata": {},
     "output_type": "execute_result"
    }
   ],
   "source": [
    "df.swaplevel(0,1).sort_index(level=0)"
   ]
  },
  {
   "cell_type": "code",
   "execution_count": null,
   "metadata": {},
   "outputs": [],
   "source": []
  }
 ],
 "metadata": {
  "kernelspec": {
   "display_name": "Python 3",
   "language": "python",
   "name": "python3"
  },
  "language_info": {
   "codemirror_mode": {
    "name": "ipython",
    "version": 3
   },
   "file_extension": ".py",
   "mimetype": "text/x-python",
   "name": "python",
   "nbconvert_exporter": "python",
   "pygments_lexer": "ipython3",
   "version": "3.8.3"
  }
 },
 "nbformat": 4,
 "nbformat_minor": 4
}
